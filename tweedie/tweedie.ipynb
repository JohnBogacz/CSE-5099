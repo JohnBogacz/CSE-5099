{
 "cells": [
  {
   "cell_type": "markdown",
   "id": "0aeecf5b",
   "metadata": {},
   "source": [
    "# **Tweedie & TDBoost-Package**"
   ]
  },
  {
   "cell_type": "code",
   "execution_count": 44,
   "id": "edd1cee6",
   "metadata": {},
   "outputs": [],
   "source": [
    "import numpy as np\n",
    "import scipy.special"
   ]
  },
  {
   "cell_type": "code",
   "execution_count": 45,
   "id": "4cd49e38",
   "metadata": {},
   "outputs": [],
   "source": [
    "from dash import Dash, dcc, html, Input, Output\n",
    "import plotly.graph_objects as go\n",
    "from plotly.subplots import make_subplots\n",
    "\n",
    "import matplotlib.pyplot as plt"
   ]
  },
  {
   "cell_type": "markdown",
   "id": "f13ce214",
   "metadata": {},
   "source": [
    "## (1) Foundation"
   ]
  },
  {
   "cell_type": "markdown",
   "id": "4e45e458",
   "metadata": {},
   "source": [
    "##### Exponential Family\n",
    "- **EQ:** $$f_{X}(x|\\theta) = h(x)\\text{exp}[\\eta(\\theta)T(x)-A(\\theta)]$$\n",
    "- **FOUNDATION**\n",
    "    \n",
    "    - $\\bold{X}$: **Random Variable**. The \"abstract\" thing thats being measured AND has NOT been observed yet.\n",
    "        - Ex: \"number of heads when you flip _ coins\"\n",
    "        - Ex: \"height of a person in a given population\"\n",
    "\n",
    "    - $\\bold{x}$: **Observed Value**. What has been actually *SEEN* or *MEASURED*. It's just one *POSSIBLE* outcome that $\\bold{X}$ can be.\n",
    "        - EX: \"3 heads out of 5 coin flips\"\n",
    "        - EX: \"someone's height measured to be 6ft tall\"\n",
    "    \n",
    "    - $\\bold{\\theta}$: **Parameter of the Distribution**. Controls the shape of the distribution. *NOT* something we *DIRECTLY* observe. We typically try to *ESTIMATE* it from the given data. $\\bold{\\text{ex:}}\\set{p, \\mu, \\lambda, ...}$\n",
    "\n",
    "| Scenario           | \\( X \\) (Random Variable)              | \\( x \\) (Observed Value) | \\( $\\theta$ \\) (Parameter)                  |\n",
    "|--------------------|----------------------------------------|--------------------------|-------------------------------------------|\n",
    "| Coin flips         | Number of heads in 10 flips            | 7                        | \\( $\\theta$ = p \\) (probability of heads)   |\n",
    "| Measuring height   | Height of a random person              | 172 cm                   | \\( $\\theta$ = $\\mu$ \\) (average height)       |\n",
    "| Waiting time       | Time between bus arrivals              | 5.2 minutes              | \\( $\\theta$ = $\\lambda$ \\) (rate of arrival)  |\n",
    "| Rainfall on a day  | Rain amount (mm)                       | 0 mm                     | \\( $\\theta$ = $\\mu$ \\) (mean rainfall)        |\n",
    "\n",
    "- **EXPLANATIONS**\n",
    "\n",
    "    - $\\bold{f_{X}(x|\\theta)}$: Probability of seeing a particular $\\bold{x}$ value given some value of $\\bold{\\theta}$.\n",
    "\n",
    "    - $\\bold{h(x)}$: **Base function**. (1) It normalize the functions so that the area under the curve is equal to 1. (2) This part of the equation adjusts the shape of the function in the final output. **(only a function of x)**\n",
    "    \n",
    "    - $\\bold{\\text{exp}[...]}$: **>:|** its in the name!\n",
    "\n",
    "    - $\\bold{\\eta(\\theta)}$: **Natural Parameter**. The idea is to convert the original distribution for $\\theta$ into a form that makes it compatible for the exponential family distribution.\n",
    "        - It can be thought as putting your parameter ($\\set{p, \\mu, \\lambda, ...}$) through a translator ($\\eta(?)$) to make it compatible with the exponential family equation. \n",
    "\n",
    "    - $\\bold{T(x)}$: **Sufficient Statistic**: Basically the minimum amount of information & a *\"transformation\"* of $\\bold{x}$ that converts it to a more suitable form.\n",
    "        - Ex:\n",
    "            | x (Data) | T(x) | Explanation |\n",
    "            | -------- | ---- | ----------- |\n",
    "            | 0 or 1   | $T(x)$ = x | outcome of trail is enough |\n",
    "            | [0,1,1,0,1] | $T(x) = \\set{\\text{count(1)... so 3}}$ | Sum of successes |\n",
    "            | 4 | $T(x) = x$ | Value itself |\n",
    "            | [160, 170, 180] | $T(x) = \\frac{\\sum x}{\\text{number of vals}} $ | average value |\n",
    "\n",
    "    - $\\bold{A(\\theta)}$: **Log-Partition Function**: Normalizes the parameter value ($\\set{p, \\mu, \\lambda, ...}$) so that the final function has an area of 1.\n"
   ]
  },
  {
   "cell_type": "markdown",
   "id": "4cc4ae80",
   "metadata": {},
   "source": [
    "## (1.1) Playing Around\n",
    "\n",
    "\n",
    "| Distribution       | $h(x)$                                           | $\\eta(\\theta)$                                 | $T(x)$                                 | $A(\\theta)$                                           | Domain                          |\n",
    "|--------------------|--------------------------------------------------|--------------------------------------------------|------------------------------------------|--------------------------------------------------------|----------------------------------|\n",
    "| **Normal** (known variance) | $\\frac{1}{\\sqrt{2\\pi}} e^{-x^2/2}$              | $\\mu$                                            | $x$                                      | $\\frac{\\mu^2}{2}$                                     | $\\mathbb{R}$                     |\n",
    "| **Exponential**    | $1$                                              | $-\\lambda$                                       | $x$                                      | $-\\log(-\\eta)$                                       | $[0, \\infty)$                    |\n",
    "| **Gamma** (fixed shape $k$) | $\\frac{x^{k-1}}{\\Gamma(k)}$                   | $-\\beta$                                         | $x$                                      | $-k \\log(-\\eta)$                                      | $(0, \\infty)$                    |\n",
    "| **Chi-squared**    | Like Gamma with $k = \\frac{v}{2}$                | $-\\frac{1}{2}$                                   | $x$                                      | $\\frac{v}{2} \\log 2 + \\log \\Gamma(v/2)$               | $(0, \\infty)$                    |\n",
    "| **Beta**           | $1$                                              | $(\\alpha - 1, \\beta - 1)$                        | $(\\log x, \\log(1 - x))$                  | $\\log B(\\alpha, \\beta)$                              | $(0, 1)$                         |\n",
    "| **Dirichlet**      | $1$                                              | $\\alpha_i - 1$ (vector)                          | $\\log x_i$                               | $\\log B(\\boldsymbol{\\alpha})$                        | $\\{x_i > 0, \\sum x_i = 1\\}$      |\n",
    "| **Bernoulli**      | $1$                                              | $\\log\\left(\\frac{p}{1-p}\\right)$                | $x$                                      | $\\log(1 + e^\\eta)$                                   | $\\{0, 1\\}$                       |\n",
    "| **Categorical**    | $1$                                              | $\\log p_i$                                       | $x_i$ (indicator)                        | $\\log \\sum_i e^{\\eta_i}$                             | Discrete over $K$ classes       |\n",
    "| **Poisson**        | $\\frac{1}{x!}$                                   | $\\log \\lambda$                                   | $x$                                      | $e^{\\eta}$                                           | $\\mathbb{N}_0$                  |\n",
    "| **Wishart**        | $\\propto |\\Sigma|^{-(\\nu + p + 1)/2} \\exp\\left(-\\frac{1}{2} \\text{tr}(\\Sigma^{-1} X)\\right)$ | $-\\frac{1}{2}\\Sigma^{-1}$      | $X$                                      | Normalizing constant (det, trace, gamma)             | PSD matrices                    |\n",
    "| **Inverse Wishart**| Similar to Wishart but inverted                  | Complex (non-canonical form)                     | $X^{-1}$                                 | Involves determinant and trace                        | PSD matrices                    |\n",
    "| **Geometric**      | $1$                                              | $\\log(1 - p)$                                    | $x$                                      | $-\\log(1 - e^{\\eta})$                                | $\\mathbb{N}_0$                  |\n"
   ]
  },
  {
   "cell_type": "code",
   "execution_count": 46,
   "id": "8b9629a8",
   "metadata": {},
   "outputs": [],
   "source": [
    "def make_plots(f, x, theta):\n",
    "    fig = make_subplots(\n",
    "        rows=3,\n",
    "        cols=2,\n",
    "        #shared_xaxes=True,\n",
    "        subplot_titles=[\"h(x)\", \"n(theta)\", \"T(x)\", \"A(theta)\", \"f(x|theta)=h(x)exp[n(theta)T(x)-A(theta)]\"]\n",
    "    )\n",
    "    \n",
    "    fig.add_trace(\n",
    "        trace= go.Scatter(\n",
    "            x= x,\n",
    "            y= f.h(x),\n",
    "            name= \"h(x)\"\n",
    "        ),\n",
    "        row=1,\n",
    "        col=1\n",
    "    )\n",
    "    fig.add_trace(\n",
    "        trace= go.Scatter(\n",
    "            x= theta,\n",
    "            y= f.n(theta),\n",
    "            name= \"n(theta)\"\n",
    "        ),\n",
    "        row=1,\n",
    "        col=2\n",
    "    )\n",
    "    fig.add_trace(\n",
    "        trace= go.Scatter(\n",
    "            x= x,\n",
    "            y= f.T(x),\n",
    "            name= \"T(x)\"\n",
    "        ),\n",
    "        row=2,\n",
    "        col=1\n",
    "    )\n",
    "    fig.add_trace(\n",
    "        trace= go.Scatter(\n",
    "            x= theta,\n",
    "            y= f.A(x),\n",
    "            name= \"A(theta)\"\n",
    "        ),\n",
    "        row=2,\n",
    "        col=2\n",
    "    )\n",
    "    fig.add_trace(\n",
    "        trace= go.Scatter(\n",
    "            x= x,\n",
    "            y= f.eq(x, theta[0]),\n",
    "            name= \"f(x|theta)=h(x)exp[n(theta)T(x)-A(theta)]\"\n",
    "        ),\n",
    "        row=3,\n",
    "        col=1\n",
    "    )\n",
    "    fig.update_xaxes(title_text=\"x\", row=1, col=1)\n",
    "    fig.update_xaxes(title_text=\"theta\", row=1, col=2)\n",
    "    fig.update_xaxes(title_text=\"x\", row=2, col=1)\n",
    "    fig.update_xaxes(title_text=\"theta\", row=2, col=2)\n",
    "    fig.update_xaxes(title_text=\"x\", row=3, col=1)\n",
    "\n",
    "    fig.update_yaxes(title_text=\"h(x)\", row=1, col=1)\n",
    "    fig.update_yaxes(title_text=\"n(theta)\", row=1, col=2)\n",
    "    fig.update_yaxes(title_text=\"T(x)\", row=2, col=1)\n",
    "    fig.update_yaxes(title_text=\"A(theta)\", row=2, col=2)\n",
    "    fig.update_yaxes(title_text=\"f(x|theta)\", row=3, col=1)\n",
    "    \n",
    "    steps = []\n",
    "    for theta_val in theta:\n",
    "        step = dict(\n",
    "            method=\"update\",\n",
    "            args=[\n",
    "                {\n",
    "                    \"y\": [\n",
    "                        f.h(x),\n",
    "                        [f.n(t) for t in theta],\n",
    "                        f.T(x),\n",
    "                        [f.A(t) for t in theta],\n",
    "                        f.eq(x, theta_val)\n",
    "                    ]\n",
    "                    },\n",
    "                {\"title\": f\"theta = {theta_val:.2f}\"}],\n",
    "            label=f\"{theta_val:.2f}\"\n",
    "        )\n",
    "        steps.append(step)\n",
    "\n",
    "    sliders = [dict(\n",
    "        active=len(theta) // 2,\n",
    "        currentvalue={\"prefix\": \"theta: \"},\n",
    "        pad={\"t\": 50},\n",
    "        steps=steps\n",
    "    )]\n",
    "\n",
    "    fig.update_layout(\n",
    "        height=1000,\n",
    "        width=800*2,\n",
    "        sliders=sliders,\n",
    "        title=f\"Exponential Family Components for theta = {theta[0]:.2f}\"\n",
    "    )\n",
    "\n",
    "    fig.show()"
   ]
  },
  {
   "cell_type": "markdown",
   "id": "a771b561",
   "metadata": {},
   "source": [
    "| Distribution       | $h(x)$                                           | $\\eta(\\mu)$                                 | $T(x)$                                 | $A(\\mu)$                                           | Domain                          |\n",
    "|--------------------|--------------------------------------------------|--------------------------------------------------|------------------------------------------|--------------------------------------------------------|----------------------------------|\n",
    "| **Normal** (known variance) | $\\frac{1}{\\sqrt{2\\pi}} e^{-x^2/2}$              | $\\mu$                                            | $x$                                      | $\\frac{\\mu^2}{2}$                                     | $\\mathbb{R}$                     |"
   ]
  },
  {
   "cell_type": "code",
   "execution_count": 47,
   "id": "c2928820",
   "metadata": {},
   "outputs": [],
   "source": [
    "class Normal:\n",
    "    \n",
    "    @staticmethod\n",
    "    def h(x):\n",
    "        return (1/(np.sqrt(2*np.pi)))*np.exp((-1/2)*np.power(x, 2))\n",
    "    \n",
    "    @staticmethod\n",
    "    def n(mu):\n",
    "        return mu\n",
    "    \n",
    "    @staticmethod\n",
    "    def T(x):\n",
    "        return x\n",
    "    \n",
    "    @staticmethod\n",
    "    def A(mu):\n",
    "        A_mu = np.power(mu, 2)*(0.5)\n",
    "        return A_mu\n",
    "    \n",
    "    def eq(self, x, mu):\n",
    "        return self.h(x)*np.exp(\n",
    "            self.n(mu)*self.T(x) - self.A(mu)\n",
    "        )"
   ]
  },
  {
   "cell_type": "code",
   "execution_count": 48,
   "id": "6a2ffb88",
   "metadata": {},
   "outputs": [],
   "source": [
    "F = Normal()\n",
    "x = np.linspace(\n",
    "    start= -10,\n",
    "    stop= 10,\n",
    "    num= 1_000\n",
    ")\n",
    "mu = np.linspace(\n",
    "    start= -10,\n",
    "    stop= 10,\n",
    "    num= 1_000\n",
    ")"
   ]
  },
  {
   "cell_type": "code",
   "execution_count": 49,
   "id": "161873bb",
   "metadata": {},
   "outputs": [],
   "source": [
    "NORMAL_PLOTS= False"
   ]
  },
  {
   "cell_type": "code",
   "execution_count": 50,
   "id": "b9f076cc",
   "metadata": {},
   "outputs": [],
   "source": [
    "if NORMAL_PLOTS:\n",
    "    make_plots(\n",
    "        f= F,\n",
    "        x= x,\n",
    "        theta= mu\n",
    "    )"
   ]
  },
  {
   "cell_type": "markdown",
   "id": "468b01d3",
   "metadata": {},
   "source": [
    "| Distribution       | $h(x)$                                           | $\\eta(\\lambda)$                                 | $T(x)$                                 | $A(\\lambda)$                                           | Domain                          |\n",
    "|--------------------|--------------------------------------------------|--------------------------------------------------|------------------------------------------|--------------------------------------------------------|----------------------------------|\n",
    "| **Poisson**        | $\\frac{1}{x!}$                                   | $\\log \\lambda$                                   | $x$                                      | $\\lambda$                                           | $\\mathbb{N}_0$                  |\n"
   ]
  },
  {
   "cell_type": "code",
   "execution_count": 51,
   "id": "a0d0cb00",
   "metadata": {},
   "outputs": [],
   "source": [
    "import scipy.special\n",
    "\n",
    "class Poisson:\n",
    "    \n",
    "    @staticmethod\n",
    "    def h(x):\n",
    "        return (1/scipy.special.factorial(x))\n",
    "    \n",
    "    @staticmethod\n",
    "    def n(theta):\n",
    "        return np.log(theta)\n",
    "    \n",
    "    @staticmethod\n",
    "    def T(x):\n",
    "        return x\n",
    "    \n",
    "    @staticmethod\n",
    "    def A(theta):\n",
    "        return theta\n",
    "    \n",
    "    def eq(self, x, mu):\n",
    "        return self.h(x)*np.exp(\n",
    "            self.n(mu)*self.T(x) - self.A(mu)\n",
    "        )"
   ]
  },
  {
   "cell_type": "markdown",
   "id": "09ce6798",
   "metadata": {},
   "source": [
    "| Distribution       | $h(x)$                                           | $\\eta(\\lambda)$                                 | $T(x)$                                 | $A(\\lambda)$                                           | Domain                          |\n",
    "|--------------------|--------------------------------------------------|--------------------------------------------------|------------------------------------------|--------------------------------------------------------|----------------------------------|\n",
    "| **Tweedie**          |\n"
   ]
  },
  {
   "cell_type": "code",
   "execution_count": 52,
   "id": "3618b90c",
   "metadata": {},
   "outputs": [],
   "source": [
    "F = Poisson()\n",
    "START = 1\n",
    "STOP = 100\n",
    "\n",
    "x = np.array(\n",
    "    object= [i for i in range(START, STOP+1)],\n",
    "    dtype= np.int64\n",
    ")\n",
    "theta = np.linspace(\n",
    "    start= START,\n",
    "    stop= STOP,\n",
    "    num= 100\n",
    ")"
   ]
  },
  {
   "cell_type": "code",
   "execution_count": 53,
   "id": "218be5a7",
   "metadata": {},
   "outputs": [],
   "source": [
    "POISSON_PLOTS = False"
   ]
  },
  {
   "cell_type": "code",
   "execution_count": 54,
   "id": "d39e123a",
   "metadata": {},
   "outputs": [],
   "source": [
    "if POISSON_PLOTS:\n",
    "    make_plots(\n",
    "        f= F,\n",
    "        x= x,\n",
    "        theta= theta\n",
    "    )"
   ]
  },
  {
   "cell_type": "code",
   "execution_count": 55,
   "id": "c5e0cb1c",
   "metadata": {},
   "outputs": [],
   "source": [
    "class Gamma:\n",
    "    \n",
    "    @staticmethod\n",
    "    def h(x):\n",
    "        return  (1/scipy.special.gamma(x))*np.power(x, 0.5 - 1)\n",
    "    \n",
    "    @staticmethod\n",
    "    def n(theta):\n",
    "        return -theta\n",
    "    \n",
    "    @staticmethod\n",
    "    def T(x):\n",
    "        return x\n",
    "    \n",
    "    @staticmethod\n",
    "    def A(theta):\n",
    "        return (-0.5)*np.log(theta)\n",
    "    \n",
    "    def eq(self, x, mu):\n",
    "        return self.h(x)*np.exp(\n",
    "            self.n(mu)*self.T(x) - self.A(mu)\n",
    "        )"
   ]
  },
  {
   "cell_type": "code",
   "execution_count": 56,
   "id": "d45405e8",
   "metadata": {},
   "outputs": [],
   "source": [
    "F = Gamma()\n",
    "\n",
    "x = np.linspace(\n",
    "    start= 0.1,\n",
    "    stop= 10,\n",
    "    num= 1_000\n",
    ")\n",
    "theta = np.linspace(\n",
    "    start= 0.1,\n",
    "    stop= 5,\n",
    "    num= 1_000\n",
    ")"
   ]
  },
  {
   "cell_type": "code",
   "execution_count": 57,
   "id": "94c5b669",
   "metadata": {},
   "outputs": [],
   "source": [
    "GAMMA_PLOTS = False"
   ]
  },
  {
   "cell_type": "code",
   "execution_count": 58,
   "id": "ce42f0af",
   "metadata": {},
   "outputs": [],
   "source": [
    "if GAMMA_PLOTS:\n",
    "    make_plots(\n",
    "        f= F,\n",
    "        x= x,\n",
    "        theta= theta\n",
    "    )"
   ]
  },
  {
   "cell_type": "markdown",
   "id": "8c79439d",
   "metadata": {},
   "source": [
    "### Exploring Tweedie Distribution"
   ]
  },
  {
   "cell_type": "markdown",
   "id": "fd0b3fcf",
   "metadata": {},
   "source": [
    "| Distribution  | $h(x)$                                                                                       | $\\eta(\\lambda)$               | $T(x)$ | $A(\\lambda)$                 | Domain                     |\n",
    "|---------------|----------------------------------------------------------------------------------------------|-------------------------------|--------|------------------------------|----------------------------|\n",
    "| **Tweedie**   | $\\displaystyle \\frac{1}{x}\\,W_{-\\alpha,0}\\!\\Bigl(-\\frac{x}{\\phi(p-1)}\\Bigr),\\;\\alpha=\\frac{2-p}{p-1}$ | $\\displaystyle \\frac{\\lambda^{1-p}}{1-p}$ | $x$    | $\\displaystyle \\frac{\\lambda^{2-p}}{2-p}$ | $\\{0\\}\\cup(0,\\infty)$ |\n"
   ]
  },
  {
   "cell_type": "code",
   "execution_count": 59,
   "id": "688cd0c9",
   "metadata": {},
   "outputs": [],
   "source": [
    "class Tweedie:\n",
    "    @staticmethod\n",
    "    def h(x, phi, p):\n",
    "        alpha = (2 - p) / (p - 1)\n",
    "        return (1/x) * scipy.special.wright_bessel(-alpha, 0, -x/(phi*(p-1)))\n",
    "    @staticmethod\n",
    "    def n(mu, p):\n",
    "        return mu**(1 - p) / (1 - p)\n",
    "    @staticmethod\n",
    "    def T(x):         return x\n",
    "    @staticmethod\n",
    "    def A(mu, p):      return mu**(2 - p) / (2 - p)\n",
    "    def eq(self, x, mu, phi, p):\n",
    "        return self.h(x,phi,p) * np.exp((self.n(mu,p)*self.T(x) - self.A(mu,p)) / phi)"
   ]
  },
  {
   "cell_type": "markdown",
   "id": "6f85a154",
   "metadata": {},
   "source": [
    "| Parameter  | Domain                   |\n",
    "|------------|--------------------------|\n",
    "| $x$        | $[0,\\infty)$  |\n",
    "| $\\mu$  | $(0,\\infty)$     |\n",
    "| $\\phi$     | $(0,\\infty)$         |\n",
    "| $p$        | $(1,2)$                |\n"
   ]
  },
  {
   "cell_type": "code",
   "execution_count": 60,
   "id": "37970da3",
   "metadata": {},
   "outputs": [],
   "source": [
    "F = Tweedie()\n",
    "\n",
    "x = np.linspace(\n",
    "    start= 0.1,\n",
    "    stop= 10,\n",
    "    num= 1_000\n",
    ")\n",
    "\n",
    "mu = np.linspace(\n",
    "    start= 0.1,\n",
    "    stop= 10,\n",
    "    num= 1_000\n",
    ")\n",
    "\n",
    "phi = np.linspace(\n",
    "    start= 0.1,\n",
    "    stop= 10,\n",
    "    num= 1_000\n",
    ")\n",
    "\n",
    "p = np.linspace(\n",
    "    start= 1,\n",
    "    stop= 2,\n",
    "    num= 1_000\n",
    ")"
   ]
  }
 ],
 "metadata": {
  "kernelspec": {
   "display_name": "matt_tweedie",
   "language": "python",
   "name": "python3"
  },
  "language_info": {
   "codemirror_mode": {
    "name": "ipython",
    "version": 3
   },
   "file_extension": ".py",
   "mimetype": "text/x-python",
   "name": "python",
   "nbconvert_exporter": "python",
   "pygments_lexer": "ipython3",
   "version": "3.10.16"
  }
 },
 "nbformat": 4,
 "nbformat_minor": 5
}
