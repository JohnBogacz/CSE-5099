{
 "cells": [
  {
   "cell_type": "markdown",
   "metadata": {},
   "source": [
    "# Udemy"
   ]
  },
  {
   "cell_type": "code",
   "execution_count": 455,
   "metadata": {},
   "outputs": [],
   "source": [
    "import os\n",
    "from IPython.display import display, HTML\n",
    "\n",
    "import pandas as pd\n",
    "import numpy as np\n",
    "import matplotlib.pyplot as plt\n",
    "import seaborn as sns\n",
    "import statsmodels.formula.api as smf\n",
    "import statsmodels.api as sm"
   ]
  },
  {
   "cell_type": "code",
   "execution_count": 456,
   "metadata": {},
   "outputs": [
    {
     "name": "stdout",
     "output_type": "stream",
     "text": [
      "/Users/school/Desktop/Github Repositories/CSE-5099/udemy\n"
     ]
    }
   ],
   "source": [
    "folders = f\"{os.getcwd()}\".split('/')[:-1]\n",
    "folders.extend(['udemy'])\n",
    "path = os.path.join(*folders)\n",
    "path = '/'+path\n",
    "print(path)"
   ]
  },
  {
   "cell_type": "markdown",
   "metadata": {},
   "source": [
    "## Section 1"
   ]
  },
  {
   "cell_type": "markdown",
   "metadata": {},
   "source": [
    "(1) Linear Regression Example (Age of Universe)"
   ]
  },
  {
   "cell_type": "code",
   "execution_count": 457,
   "metadata": {},
   "outputs": [
    {
     "data": {
      "text/html": [
       "<table border=\"1\" class=\"dataframe\">\n",
       "  <thead>\n",
       "    <tr style=\"text-align: right;\">\n",
       "      <th></th>\n",
       "      <th>Galaxy</th>\n",
       "      <th>y</th>\n",
       "      <th>x</th>\n",
       "    </tr>\n",
       "  </thead>\n",
       "  <tbody>\n",
       "    <tr>\n",
       "      <th>0</th>\n",
       "      <td>NGC0300</td>\n",
       "      <td>133</td>\n",
       "      <td>2.00</td>\n",
       "    </tr>\n",
       "    <tr>\n",
       "      <th>1</th>\n",
       "      <td>NGC0925</td>\n",
       "      <td>664</td>\n",
       "      <td>9.16</td>\n",
       "    </tr>\n",
       "    <tr>\n",
       "      <th>2</th>\n",
       "      <td>NGC1326A</td>\n",
       "      <td>1794</td>\n",
       "      <td>16.14</td>\n",
       "    </tr>\n",
       "    <tr>\n",
       "      <th>3</th>\n",
       "      <td>NGC1365</td>\n",
       "      <td>1594</td>\n",
       "      <td>17.95</td>\n",
       "    </tr>\n",
       "    <tr>\n",
       "      <th>4</th>\n",
       "      <td>NGC1425</td>\n",
       "      <td>1473</td>\n",
       "      <td>21.88</td>\n",
       "    </tr>\n",
       "    <tr>\n",
       "      <th>5</th>\n",
       "      <td>NGC2403</td>\n",
       "      <td>278</td>\n",
       "      <td>3.22</td>\n",
       "    </tr>\n",
       "    <tr>\n",
       "      <th>6</th>\n",
       "      <td>NGC2541</td>\n",
       "      <td>714</td>\n",
       "      <td>11.22</td>\n",
       "    </tr>\n",
       "    <tr>\n",
       "      <th>7</th>\n",
       "      <td>NGC2090</td>\n",
       "      <td>882</td>\n",
       "      <td>11.75</td>\n",
       "    </tr>\n",
       "    <tr>\n",
       "      <th>8</th>\n",
       "      <td>NGC3031</td>\n",
       "      <td>80</td>\n",
       "      <td>3.63</td>\n",
       "    </tr>\n",
       "    <tr>\n",
       "      <th>9</th>\n",
       "      <td>NGC3198</td>\n",
       "      <td>772</td>\n",
       "      <td>13.80</td>\n",
       "    </tr>\n",
       "    <tr>\n",
       "      <th>10</th>\n",
       "      <td>NGC3351</td>\n",
       "      <td>642</td>\n",
       "      <td>10.00</td>\n",
       "    </tr>\n",
       "    <tr>\n",
       "      <th>11</th>\n",
       "      <td>NGC3368</td>\n",
       "      <td>768</td>\n",
       "      <td>10.52</td>\n",
       "    </tr>\n",
       "    <tr>\n",
       "      <th>12</th>\n",
       "      <td>NGC3621</td>\n",
       "      <td>609</td>\n",
       "      <td>6.64</td>\n",
       "    </tr>\n",
       "    <tr>\n",
       "      <th>13</th>\n",
       "      <td>NGC4321</td>\n",
       "      <td>1433</td>\n",
       "      <td>15.21</td>\n",
       "    </tr>\n",
       "    <tr>\n",
       "      <th>14</th>\n",
       "      <td>NGC4414</td>\n",
       "      <td>619</td>\n",
       "      <td>17.70</td>\n",
       "    </tr>\n",
       "    <tr>\n",
       "      <th>15</th>\n",
       "      <td>NGC4496A</td>\n",
       "      <td>1424</td>\n",
       "      <td>14.86</td>\n",
       "    </tr>\n",
       "    <tr>\n",
       "      <th>16</th>\n",
       "      <td>NGC4548</td>\n",
       "      <td>1384</td>\n",
       "      <td>16.22</td>\n",
       "    </tr>\n",
       "    <tr>\n",
       "      <th>17</th>\n",
       "      <td>NGC4535</td>\n",
       "      <td>1444</td>\n",
       "      <td>15.78</td>\n",
       "    </tr>\n",
       "    <tr>\n",
       "      <th>18</th>\n",
       "      <td>NGC4536</td>\n",
       "      <td>1423</td>\n",
       "      <td>14.93</td>\n",
       "    </tr>\n",
       "    <tr>\n",
       "      <th>19</th>\n",
       "      <td>NGC4639</td>\n",
       "      <td>1403</td>\n",
       "      <td>21.98</td>\n",
       "    </tr>\n",
       "    <tr>\n",
       "      <th>20</th>\n",
       "      <td>NGC4725</td>\n",
       "      <td>1103</td>\n",
       "      <td>12.36</td>\n",
       "    </tr>\n",
       "    <tr>\n",
       "      <th>21</th>\n",
       "      <td>IC4182</td>\n",
       "      <td>318</td>\n",
       "      <td>4.49</td>\n",
       "    </tr>\n",
       "    <tr>\n",
       "      <th>22</th>\n",
       "      <td>NGC5253</td>\n",
       "      <td>232</td>\n",
       "      <td>3.15</td>\n",
       "    </tr>\n",
       "    <tr>\n",
       "      <th>23</th>\n",
       "      <td>NGC7331</td>\n",
       "      <td>999</td>\n",
       "      <td>14.72</td>\n",
       "    </tr>\n",
       "  </tbody>\n",
       "</table>"
      ],
      "text/plain": [
       "<IPython.core.display.HTML object>"
      ]
     },
     "metadata": {},
     "output_type": "display_data"
    }
   ],
   "source": [
    "uni_df = pd.read_csv(\n",
    "    filepath_or_buffer= os.path.join(path, 'hubble.csv')\n",
    ")\n",
    "\n",
    "display(HTML(uni_df.to_html()))"
   ]
  },
  {
   "cell_type": "code",
   "execution_count": 458,
   "metadata": {},
   "outputs": [
    {
     "data": {
      "image/png": "[encoded data removed]",
      "text/plain": [
       "<Figure size 640x480 with 1 Axes>"
      ]
     },
     "metadata": {},
     "output_type": "display_data"
    }
   ],
   "source": [
    "plt.plot(\n",
    "    uni_df['x'], # vel\n",
    "    uni_df['y'], # dist\n",
    "    'o'\n",
    ")\n",
    "plt.xlabel(\n",
    "    xlabel= \"Distance\"\n",
    ")\n",
    "plt.ylabel(\n",
    "    ylabel= \"Velocity: Megaparsecs/sec\"\n",
    ")\n",
    "\n",
    "plt.show()"
   ]
  },
  {
   "cell_type": "code",
   "execution_count": 459,
   "metadata": {},
   "outputs": [
    {
     "name": "stdout",
     "output_type": "stream",
     "text": [
      "                                 OLS Regression Results                                \n",
      "=======================================================================================\n",
      "Dep. Variable:                      y   R-squared (uncentered):                   0.942\n",
      "Model:                            OLS   Adj. R-squared (uncentered):              0.939\n",
      "Method:                 Least Squares   F-statistic:                              373.1\n",
      "Date:                Fri, 04 Apr 2025   Prob (F-statistic):                    1.03e-15\n",
      "Time:                        16:27:07   Log-Likelihood:                         -166.90\n",
      "No. Observations:                  24   AIC:                                      335.8\n",
      "Df Residuals:                      23   BIC:                                      337.0\n",
      "Df Model:                           1                                                  \n",
      "Covariance Type:            nonrobust                                                  \n",
      "==============================================================================\n",
      "                 coef    std err          t      P>|t|      [0.025      0.975]\n",
      "------------------------------------------------------------------------------\n",
      "x             76.5812      3.965     19.315      0.000      68.379      84.783\n",
      "==============================================================================\n",
      "Omnibus:                        4.767   Durbin-Watson:                   2.275\n",
      "Prob(Omnibus):                  0.092   Jarque-Bera (JB):                2.981\n",
      "Skew:                          -0.522   Prob(JB):                        0.225\n",
      "Kurtosis:                       4.376   Cond. No.                         1.00\n",
      "==============================================================================\n",
      "\n",
      "Notes:\n",
      "[1] R² is computed without centering (uncentered) since the model does not contain a constant.\n",
      "[2] Standard Errors assume that the covariance matrix of the errors is correctly specified.\n"
     ]
    }
   ],
   "source": [
    "model = smf.ols(\n",
    "    formula='y~x-1',\n",
    "    #! -1 means no intercept\n",
    "    data= uni_df[['x', 'y']]).fit()\n",
    "print(model.summary())"
   ]
  },
  {
   "cell_type": "code",
   "execution_count": 460,
   "metadata": {},
   "outputs": [
    {
     "name": "stdout",
     "output_type": "stream",
     "text": [
      "76.58117202916935\n"
     ]
    }
   ],
   "source": [
    "beta = model.params.iloc[0]\n",
    "print(beta)"
   ]
  },
  {
   "cell_type": "code",
   "execution_count": 461,
   "metadata": {},
   "outputs": [
    {
     "data": {
      "image/png": "[encoded data removed]",
      "text/plain": [
       "<Figure size 640x480 with 1 Axes>"
      ]
     },
     "metadata": {},
     "output_type": "display_data"
    }
   ],
   "source": [
    "a = np.linspace(uni_df['x'].min(), uni_df['x'].max(), 100)\n",
    "b = a * beta\n",
    "plt.plot(a, b)\n",
    "\n",
    "plt.plot(\n",
    "    uni_df['x'], # vel\n",
    "    uni_df['y'], # dist\n",
    "    'o'\n",
    ")\n",
    "plt.xlabel(\n",
    "    xlabel= \"Distance\"\n",
    ")\n",
    "plt.ylabel(\n",
    "    ylabel= \"Velocity: Megaparsecs/sec\"\n",
    ")\n",
    "\n",
    "plt.show()"
   ]
  },
  {
   "cell_type": "markdown",
   "metadata": {},
   "source": [
    "- Fitted values: measures of Y (mean value of Y)\n",
    "    - Assumptions ^: Independent residuals and with constant variance\n",
    "    - DON'T want to see a trend-line go up or down\n",
    "    - OR DON'T want to see it spread out as values of Y increase or decrease\n",
    "\n",
    "\n",
    "Here as the mean value of Y increase, its variances also increases"
   ]
  },
  {
   "cell_type": "code",
   "execution_count": 462,
   "metadata": {},
   "outputs": [
    {
     "data": {
      "image/png": "[encoded data removed]",
      "text/plain": [
       "<Figure size 640x480 with 1 Axes>"
      ]
     },
     "metadata": {},
     "output_type": "display_data"
    }
   ],
   "source": [
    "residuals = model.resid\n",
    "fitted = model.fittedvalues\n",
    "plt.scatter(fitted, residuals)\n",
    "\n",
    "plt.show()"
   ]
  },
  {
   "cell_type": "markdown",
   "metadata": {},
   "source": [
    "Udemy says to that the most upper and lower points (row 3 & 15) could be outliers and lets fit another model with it not included."
   ]
  },
  {
   "cell_type": "code",
   "execution_count": 463,
   "metadata": {},
   "outputs": [
    {
     "data": {
      "text/html": [
       "<table border=\"1\" class=\"dataframe\">\n",
       "  <thead>\n",
       "    <tr style=\"text-align: right;\">\n",
       "      <th></th>\n",
       "      <th>Galaxy</th>\n",
       "      <th>y</th>\n",
       "      <th>x</th>\n",
       "    </tr>\n",
       "  </thead>\n",
       "  <tbody>\n",
       "    <tr>\n",
       "      <th>0</th>\n",
       "      <td>NGC0300</td>\n",
       "      <td>133</td>\n",
       "      <td>2.00</td>\n",
       "    </tr>\n",
       "    <tr>\n",
       "      <th>1</th>\n",
       "      <td>NGC0925</td>\n",
       "      <td>664</td>\n",
       "      <td>9.16</td>\n",
       "    </tr>\n",
       "    <tr>\n",
       "      <th>3</th>\n",
       "      <td>NGC1365</td>\n",
       "      <td>1594</td>\n",
       "      <td>17.95</td>\n",
       "    </tr>\n",
       "    <tr>\n",
       "      <th>4</th>\n",
       "      <td>NGC1425</td>\n",
       "      <td>1473</td>\n",
       "      <td>21.88</td>\n",
       "    </tr>\n",
       "    <tr>\n",
       "      <th>5</th>\n",
       "      <td>NGC2403</td>\n",
       "      <td>278</td>\n",
       "      <td>3.22</td>\n",
       "    </tr>\n",
       "    <tr>\n",
       "      <th>6</th>\n",
       "      <td>NGC2541</td>\n",
       "      <td>714</td>\n",
       "      <td>11.22</td>\n",
       "    </tr>\n",
       "    <tr>\n",
       "      <th>7</th>\n",
       "      <td>NGC2090</td>\n",
       "      <td>882</td>\n",
       "      <td>11.75</td>\n",
       "    </tr>\n",
       "    <tr>\n",
       "      <th>8</th>\n",
       "      <td>NGC3031</td>\n",
       "      <td>80</td>\n",
       "      <td>3.63</td>\n",
       "    </tr>\n",
       "    <tr>\n",
       "      <th>9</th>\n",
       "      <td>NGC3198</td>\n",
       "      <td>772</td>\n",
       "      <td>13.80</td>\n",
       "    </tr>\n",
       "    <tr>\n",
       "      <th>10</th>\n",
       "      <td>NGC3351</td>\n",
       "      <td>642</td>\n",
       "      <td>10.00</td>\n",
       "    </tr>\n",
       "    <tr>\n",
       "      <th>11</th>\n",
       "      <td>NGC3368</td>\n",
       "      <td>768</td>\n",
       "      <td>10.52</td>\n",
       "    </tr>\n",
       "    <tr>\n",
       "      <th>12</th>\n",
       "      <td>NGC3621</td>\n",
       "      <td>609</td>\n",
       "      <td>6.64</td>\n",
       "    </tr>\n",
       "    <tr>\n",
       "      <th>13</th>\n",
       "      <td>NGC4321</td>\n",
       "      <td>1433</td>\n",
       "      <td>15.21</td>\n",
       "    </tr>\n",
       "    <tr>\n",
       "      <th>15</th>\n",
       "      <td>NGC4496A</td>\n",
       "      <td>1424</td>\n",
       "      <td>14.86</td>\n",
       "    </tr>\n",
       "    <tr>\n",
       "      <th>16</th>\n",
       "      <td>NGC4548</td>\n",
       "      <td>1384</td>\n",
       "      <td>16.22</td>\n",
       "    </tr>\n",
       "    <tr>\n",
       "      <th>17</th>\n",
       "      <td>NGC4535</td>\n",
       "      <td>1444</td>\n",
       "      <td>15.78</td>\n",
       "    </tr>\n",
       "    <tr>\n",
       "      <th>18</th>\n",
       "      <td>NGC4536</td>\n",
       "      <td>1423</td>\n",
       "      <td>14.93</td>\n",
       "    </tr>\n",
       "    <tr>\n",
       "      <th>19</th>\n",
       "      <td>NGC4639</td>\n",
       "      <td>1403</td>\n",
       "      <td>21.98</td>\n",
       "    </tr>\n",
       "    <tr>\n",
       "      <th>20</th>\n",
       "      <td>NGC4725</td>\n",
       "      <td>1103</td>\n",
       "      <td>12.36</td>\n",
       "    </tr>\n",
       "    <tr>\n",
       "      <th>21</th>\n",
       "      <td>IC4182</td>\n",
       "      <td>318</td>\n",
       "      <td>4.49</td>\n",
       "    </tr>\n",
       "    <tr>\n",
       "      <th>22</th>\n",
       "      <td>NGC5253</td>\n",
       "      <td>232</td>\n",
       "      <td>3.15</td>\n",
       "    </tr>\n",
       "    <tr>\n",
       "      <th>23</th>\n",
       "      <td>NGC7331</td>\n",
       "      <td>999</td>\n",
       "      <td>14.72</td>\n",
       "    </tr>\n",
       "  </tbody>\n",
       "</table>"
      ],
      "text/plain": [
       "<IPython.core.display.HTML object>"
      ]
     },
     "metadata": {},
     "output_type": "display_data"
    }
   ],
   "source": [
    "uni_df = uni_df.drop(index=[2,14], axis=1)\n",
    "display(HTML(uni_df.to_html()))"
   ]
  },
  {
   "cell_type": "code",
   "execution_count": 464,
   "metadata": {},
   "outputs": [
    {
     "name": "stdout",
     "output_type": "stream",
     "text": [
      "                                 OLS Regression Results                                \n",
      "=======================================================================================\n",
      "Dep. Variable:                      y   R-squared (uncentered):                   0.970\n",
      "Model:                            OLS   Adj. R-squared (uncentered):              0.969\n",
      "Method:                 Least Squares   F-statistic:                              683.8\n",
      "Date:                Fri, 04 Apr 2025   Prob (F-statistic):                    1.66e-17\n",
      "Time:                        16:27:07   Log-Likelihood:                         -145.01\n",
      "No. Observations:                  22   AIC:                                      292.0\n",
      "Df Residuals:                      21   BIC:                                      293.1\n",
      "Df Model:                           1                                                  \n",
      "Covariance Type:            nonrobust                                                  \n",
      "==============================================================================\n",
      "                 coef    std err          t      P>|t|      [0.025      0.975]\n",
      "------------------------------------------------------------------------------\n",
      "x             77.6729      2.970     26.150      0.000      71.496      83.850\n",
      "==============================================================================\n",
      "Omnibus:                        1.991   Durbin-Watson:                   1.579\n",
      "Prob(Omnibus):                  0.370   Jarque-Bera (JB):                1.049\n",
      "Skew:                          -0.001   Prob(JB):                        0.592\n",
      "Kurtosis:                       1.930   Cond. No.                         1.00\n",
      "==============================================================================\n",
      "\n",
      "Notes:\n",
      "[1] R² is computed without centering (uncentered) since the model does not contain a constant.\n",
      "[2] Standard Errors assume that the covariance matrix of the errors is correctly specified.\n"
     ]
    }
   ],
   "source": [
    "model2 = smf.ols(\n",
    "    formula='y~x-1',\n",
    "    #! -1 means no intercept\n",
    "    data= uni_df[['x', 'y']]).fit()\n",
    "print(model2.summary())"
   ]
  },
  {
   "cell_type": "code",
   "execution_count": 465,
   "metadata": {},
   "outputs": [
    {
     "name": "stdout",
     "output_type": "stream",
     "text": [
      "76.58117202916935\n"
     ]
    },
    {
     "data": {
      "image/png": "[encoded data removed]",
      "text/plain": [
       "<Figure size 640x480 with 1 Axes>"
      ]
     },
     "metadata": {},
     "output_type": "display_data"
    }
   ],
   "source": [
    "beta2 = model2.params.iloc[0]\n",
    "print(beta)\n",
    "\n",
    "a = np.linspace(uni_df['x'].min(), uni_df['x'].max(), 100)\n",
    "b = a * beta2\n",
    "plt.plot(a, b)\n",
    "\n",
    "plt.plot(\n",
    "    uni_df['x'], # vel\n",
    "    uni_df['y'], # dist\n",
    "    'o'\n",
    ")\n",
    "plt.xlabel(\n",
    "    xlabel= \"Distance\"\n",
    ")\n",
    "plt.ylabel(\n",
    "    ylabel= \"Velocity: Megaparsecs/sec\"\n",
    ")\n",
    "\n",
    "plt.show()"
   ]
  },
  {
   "cell_type": "code",
   "execution_count": 466,
   "metadata": {},
   "outputs": [
    {
     "data": {
      "image/png": "[encoded data removed]",
      "text/plain": [
       "<Figure size 640x480 with 1 Axes>"
      ]
     },
     "metadata": {},
     "output_type": "display_data"
    }
   ],
   "source": [
    "residuals2 = model2.resid\n",
    "fitted2 = model2.fittedvalues\n",
    "plt.scatter(fitted2, residuals2)\n",
    "plt.show()"
   ]
  },
  {
   "cell_type": "code",
   "execution_count": 467,
   "metadata": {},
   "outputs": [
    {
     "name": "stdout",
     "output_type": "stream",
     "text": [
      "(np.float64(2.478355081850141e-18), np.float64(2.5136866492097877e-18))\n",
      "(np.float64(23077867360554.043), np.float64(22753492313480.164))\n"
     ]
    }
   ],
   "source": [
    "hubble_const = (beta/3.09e19, beta2/3.09e19)\n",
    "print(hubble_const)\n",
    "\n",
    "age = (1/hubble_const[0], 1/hubble_const[1])\n",
    "age = (age[0]/(60^2*24*365), age[1]/(60^2*24*365))\n",
    "print(age)"
   ]
  },
  {
   "cell_type": "code",
   "execution_count": 468,
   "metadata": {},
   "outputs": [
    {
     "name": "stdout",
     "output_type": "stream",
     "text": [
      "196490994981.30307 193729181042.82816\n"
     ]
    }
   ],
   "source": [
    "HUBBLE = 4.35*(10^17)\n",
    "print(age[0]/HUBBLE, age[1]/HUBBLE)"
   ]
  },
  {
   "cell_type": "markdown",
   "metadata": {},
   "source": [
    "- How to tell if this is a good estimate?\n",
    "    - What is the CI\n",
    "\n",
    "Assumptions of $\\hat\\beta$\n",
    "- that error terms $\\epsilon = N(0, \\sigma^2)$ for all i, which impiles that $Y_{i} = N(x_{i}*\\beta, \\sigma^2)$"
   ]
  },
  {
   "cell_type": "markdown",
   "metadata": {},
   "source": [
    "## Section 2\n",
    "### GLM"
   ]
  },
  {
   "cell_type": "markdown",
   "metadata": {},
   "source": [
    "**Notes:**\n",
    "\n",
    "\n",
    "Linear Models\n",
    "- Assume constant variance at different values of Y\n",
    "- Assume normally distributed error terms\n",
    "\n",
    "GLM\n",
    "- Allow for *specification* of the error distribution\n",
    "    - Poisson, Binomial, Gamma, Exponential\n",
    "\n",
    "<img src=\"error structures.png\" width=\"600\" height=\"500\">\n",
    "\n",
    "Linear predictor $\\eta$ is the linear sum of the effects of $\\eta_{i} = \\sum_{j=1}^{p} x_{ij}*\\beta_{j}$\n",
    "\n",
    "- (1) Predicted Value: $\\eta_{i} = \\sum_{j=1}^{p} x_{ij}*\\beta_{j}$\n",
    "- (2) Transformed Value\n",
    "    - (A) $y_{i} = g(\\eta_{i})$"
   ]
  },
  {
   "cell_type": "markdown",
   "metadata": {},
   "source": [
    "Goal: Calculate ODDS of heart attacks based on level of Creatinine supplements.\n",
    "- Probability: yes/no\n",
    "- Odds: yes/ (yes + no)\n",
    "\n",
    "-  Binomial\n",
    "    - $P(x) = \\frac{n!}{(n-x)! x!} * p^{x}*q^{n-x}$\n",
    "    - p: # of ppl with heart attack / total # of people\n",
    "\n",
    "<img src=\"odds.png\" width=\"600\" height=\"500\">"
   ]
  },
  {
   "cell_type": "code",
   "execution_count": 469,
   "metadata": {},
   "outputs": [
    {
     "data": {
      "text/html": [
       "<table border=\"1\" class=\"dataframe\">\n",
       "  <thead>\n",
       "    <tr style=\"text-align: right;\">\n",
       "      <th></th>\n",
       "      <th>ck</th>\n",
       "      <th>ha</th>\n",
       "      <th>ok</th>\n",
       "    </tr>\n",
       "  </thead>\n",
       "  <tbody>\n",
       "    <tr>\n",
       "      <th>0</th>\n",
       "      <td>20</td>\n",
       "      <td>2</td>\n",
       "      <td>88</td>\n",
       "    </tr>\n",
       "    <tr>\n",
       "      <th>1</th>\n",
       "      <td>60</td>\n",
       "      <td>13</td>\n",
       "      <td>26</td>\n",
       "    </tr>\n",
       "    <tr>\n",
       "      <th>2</th>\n",
       "      <td>100</td>\n",
       "      <td>30</td>\n",
       "      <td>8</td>\n",
       "    </tr>\n",
       "    <tr>\n",
       "      <th>3</th>\n",
       "      <td>140</td>\n",
       "      <td>30</td>\n",
       "      <td>5</td>\n",
       "    </tr>\n",
       "    <tr>\n",
       "      <th>4</th>\n",
       "      <td>180</td>\n",
       "      <td>21</td>\n",
       "      <td>0</td>\n",
       "    </tr>\n",
       "    <tr>\n",
       "      <th>5</th>\n",
       "      <td>220</td>\n",
       "      <td>19</td>\n",
       "      <td>1</td>\n",
       "    </tr>\n",
       "    <tr>\n",
       "      <th>6</th>\n",
       "      <td>260</td>\n",
       "      <td>18</td>\n",
       "      <td>1</td>\n",
       "    </tr>\n",
       "    <tr>\n",
       "      <th>7</th>\n",
       "      <td>300</td>\n",
       "      <td>13</td>\n",
       "      <td>1</td>\n",
       "    </tr>\n",
       "    <tr>\n",
       "      <th>8</th>\n",
       "      <td>340</td>\n",
       "      <td>19</td>\n",
       "      <td>1</td>\n",
       "    </tr>\n",
       "    <tr>\n",
       "      <th>9</th>\n",
       "      <td>380</td>\n",
       "      <td>15</td>\n",
       "      <td>0</td>\n",
       "    </tr>\n",
       "    <tr>\n",
       "      <th>10</th>\n",
       "      <td>420</td>\n",
       "      <td>7</td>\n",
       "      <td>0</td>\n",
       "    </tr>\n",
       "    <tr>\n",
       "      <th>11</th>\n",
       "      <td>460</td>\n",
       "      <td>8</td>\n",
       "      <td>0</td>\n",
       "    </tr>\n",
       "  </tbody>\n",
       "</table>"
      ],
      "text/plain": [
       "<IPython.core.display.HTML object>"
      ]
     },
     "metadata": {},
     "output_type": "display_data"
    }
   ],
   "source": [
    "heart_df = pd.read_csv(\n",
    "    filepath_or_buffer= os.path.join(path, 'heart.csv')\n",
    ")\n",
    "\n",
    "display(HTML(heart_df.to_html()))\n",
    "\n",
    "# ck: amount of supplement\n",
    "# ha: num of patients with heart attack\n",
    "# ok: num of patients with NO hear attack"
   ]
  },
  {
   "cell_type": "code",
   "execution_count": 470,
   "metadata": {},
   "outputs": [
    {
     "data": {
      "image/png": "[encoded data removed]",
      "text/plain": [
       "<Figure size 640x480 with 1 Axes>"
      ]
     },
     "metadata": {},
     "output_type": "display_data"
    }
   ],
   "source": [
    "plt.plot(\n",
    "    heart_df['ck'],\n",
    "    heart_df['ha'],\n",
    "    'x',\n",
    "    label='Heart Attacks',\n",
    "    color= 'red'\n",
    ")\n",
    "plt.plot(\n",
    "    heart_df['ck'],\n",
    "    heart_df['ok'],\n",
    "    'o',\n",
    "    label='NO Heart Attacks',\n",
    "    color= 'blue',\n",
    ")\n",
    "\n",
    "plt.xlabel(\n",
    "    xlabel= \"Creatinine Level\"\n",
    ")\n",
    "plt.ylabel(\n",
    "    ylabel= \"Number of Patients\"\n",
    ")\n",
    "\n",
    "plt.legend()\n",
    "plt.show()"
   ]
  },
  {
   "cell_type": "code",
   "execution_count": 471,
   "metadata": {},
   "outputs": [
    {
     "data": {
      "text/html": [
       "<table border=\"1\" class=\"dataframe\">\n",
       "  <thead>\n",
       "    <tr style=\"text-align: right;\">\n",
       "      <th></th>\n",
       "      <th>ck</th>\n",
       "      <th>ha</th>\n",
       "      <th>ok</th>\n",
       "      <th>p</th>\n",
       "    </tr>\n",
       "  </thead>\n",
       "  <tbody>\n",
       "    <tr>\n",
       "      <th>0</th>\n",
       "      <td>20</td>\n",
       "      <td>2</td>\n",
       "      <td>88</td>\n",
       "      <td>0.022222</td>\n",
       "    </tr>\n",
       "    <tr>\n",
       "      <th>1</th>\n",
       "      <td>60</td>\n",
       "      <td>13</td>\n",
       "      <td>26</td>\n",
       "      <td>0.333333</td>\n",
       "    </tr>\n",
       "    <tr>\n",
       "      <th>2</th>\n",
       "      <td>100</td>\n",
       "      <td>30</td>\n",
       "      <td>8</td>\n",
       "      <td>0.789474</td>\n",
       "    </tr>\n",
       "    <tr>\n",
       "      <th>3</th>\n",
       "      <td>140</td>\n",
       "      <td>30</td>\n",
       "      <td>5</td>\n",
       "      <td>0.857143</td>\n",
       "    </tr>\n",
       "    <tr>\n",
       "      <th>4</th>\n",
       "      <td>180</td>\n",
       "      <td>21</td>\n",
       "      <td>0</td>\n",
       "      <td>1.000000</td>\n",
       "    </tr>\n",
       "    <tr>\n",
       "      <th>5</th>\n",
       "      <td>220</td>\n",
       "      <td>19</td>\n",
       "      <td>1</td>\n",
       "      <td>0.950000</td>\n",
       "    </tr>\n",
       "    <tr>\n",
       "      <th>6</th>\n",
       "      <td>260</td>\n",
       "      <td>18</td>\n",
       "      <td>1</td>\n",
       "      <td>0.947368</td>\n",
       "    </tr>\n",
       "    <tr>\n",
       "      <th>7</th>\n",
       "      <td>300</td>\n",
       "      <td>13</td>\n",
       "      <td>1</td>\n",
       "      <td>0.928571</td>\n",
       "    </tr>\n",
       "    <tr>\n",
       "      <th>8</th>\n",
       "      <td>340</td>\n",
       "      <td>19</td>\n",
       "      <td>1</td>\n",
       "      <td>0.950000</td>\n",
       "    </tr>\n",
       "    <tr>\n",
       "      <th>9</th>\n",
       "      <td>380</td>\n",
       "      <td>15</td>\n",
       "      <td>0</td>\n",
       "      <td>1.000000</td>\n",
       "    </tr>\n",
       "    <tr>\n",
       "      <th>10</th>\n",
       "      <td>420</td>\n",
       "      <td>7</td>\n",
       "      <td>0</td>\n",
       "      <td>1.000000</td>\n",
       "    </tr>\n",
       "    <tr>\n",
       "      <th>11</th>\n",
       "      <td>460</td>\n",
       "      <td>8</td>\n",
       "      <td>0</td>\n",
       "      <td>1.000000</td>\n",
       "    </tr>\n",
       "  </tbody>\n",
       "</table>"
      ],
      "text/plain": [
       "<IPython.core.display.HTML object>"
      ]
     },
     "metadata": {},
     "output_type": "display_data"
    }
   ],
   "source": [
    "# calculating p\n",
    "# p = # of ppl with heart attack / total # of people\n",
    "\n",
    "heart_df['p'] = heart_df['ha'] / (heart_df['ha'] + heart_df['ok'])\n",
    "display(HTML(heart_df.to_html()))"
   ]
  },
  {
   "cell_type": "code",
   "execution_count": 472,
   "metadata": {},
   "outputs": [
    {
     "data": {
      "text/plain": [
       "Text(0, 0.5, 'PROPORTION of Heart attack')"
      ]
     },
     "execution_count": 472,
     "metadata": {},
     "output_type": "execute_result"
    },
    {
     "data": {
      "image/png": "[encoded data removed]",
      "text/plain": [
       "<Figure size 640x480 with 1 Axes>"
      ]
     },
     "metadata": {},
     "output_type": "display_data"
    }
   ],
   "source": [
    "plt.plot(\n",
    "    heart_df['ck'],\n",
    "    heart_df['p'],\n",
    "    '.',\n",
    "    label='NO Heart Attacks',\n",
    "    color= 'orange',\n",
    ")\n",
    "\n",
    "plt.xlabel(\n",
    "    xlabel= \"Creatinine Level\"\n",
    ")\n",
    "plt.ylabel(\n",
    "    ylabel= \"PROPORTION of Heart attack\"\n",
    ")"
   ]
  },
  {
   "cell_type": "markdown",
   "metadata": {},
   "source": [
    "We want the EXPECTED VALUE (mean level) of p\n",
    "\n",
    "<img src=\"proportions.png\" width=\"600\" height=\"500\">\n",
    "<img src=\"proportions2.png\" width=\"600\" height=\"500\">"
   ]
  },
  {
   "cell_type": "code",
   "execution_count": 473,
   "metadata": {},
   "outputs": [
    {
     "name": "stdout",
     "output_type": "stream",
     "text": [
      "                 Generalized Linear Model Regression Results                  \n",
      "==============================================================================\n",
      "Dep. Variable:           ['ha', 'ok']   No. Observations:                   12\n",
      "Model:                            GLM   Df Residuals:                       10\n",
      "Model Family:                Binomial   Df Model:                            1\n",
      "Link Function:                  Logit   Scale:                          1.0000\n",
      "Method:                          IRLS   Log-Likelihood:                -29.167\n",
      "Date:                Fri, 04 Apr 2025   Deviance:                       36.929\n",
      "Time:                        16:27:07   Pearson chi2:                     205.\n",
      "No. Iterations:                     7   Pseudo R-squ. (CS):              1.000\n",
      "Covariance Type:            nonrobust                                         \n",
      "==============================================================================\n",
      "                 coef    std err          z      P>|z|      [0.025      0.975]\n",
      "------------------------------------------------------------------------------\n",
      "const         -2.7584      0.337     -8.192      0.000      -3.418      -2.098\n",
      "ck             0.0312      0.004      8.633      0.000       0.024       0.038\n",
      "==============================================================================\n"
     ]
    }
   ],
   "source": [
    "# https://www.statsmodels.org/stable/generated/statsmodels.genmod.generalized_linear_model.GLM.html#statsmodels.genmod.generalized_linear_model.GLM\n",
    "# https://www.statsmodels.org/stable/glm.html#families\n",
    "\n",
    "X = heart_df['ck']\n",
    "X = sm.add_constant(X)\n",
    "\n",
    "y = heart_df[['ha', 'ok']]\n",
    "\n",
    "\n",
    "model3 = sm.GLM(\n",
    "    # 1D array of response (or 2D if binomial [success, failure])\n",
    "    endog= y,\n",
    "    \n",
    "    # NxK array of input data\n",
    "    exog= X,\n",
    "    \n",
    "    #\n",
    "    family= sm.families.Binomial(),\n",
    "    \n",
    "    # offset=None,\n",
    "    # exposure=None,\n",
    "    # freq_weights=None,\n",
    "    # var_weights=None,\n",
    "    # missing='none',\n",
    "    # **kwargs\n",
    ").fit()\n",
    "\n",
    "print(model3.summary())"
   ]
  },
  {
   "cell_type": "code",
   "execution_count": 474,
   "metadata": {},
   "outputs": [
    {
     "name": "stdout",
     "output_type": "stream",
     "text": [
      "36.92862296812407\n",
      "10\n"
     ]
    }
   ],
   "source": [
    "print(model3.deviance) # want it to be small and at least equal to degrees of freedom\n",
    "print(model3.df_resid)"
   ]
  },
  {
   "cell_type": "code",
   "execution_count": 475,
   "metadata": {},
   "outputs": [
    {
     "name": "stdout",
     "output_type": "stream",
     "text": [
      "B0= -2.758358203281892 | B1= 0.031243732087198255\n"
     ]
    }
   ],
   "source": [
    "B0 = model3.params.iloc[0]\n",
    "B1= model3.params.iloc[1]\n",
    "\n",
    "print(f\"B0= {B0} | B1= {B1}\")"
   ]
  },
  {
   "cell_type": "code",
   "execution_count": 476,
   "metadata": {},
   "outputs": [
    {
     "name": "stdout",
     "output_type": "stream",
     "text": [
      "0     0.105885\n",
      "1     0.292405\n",
      "2     0.590496\n",
      "3     0.834210\n",
      "4     0.946115\n",
      "5     0.983940\n",
      "6     0.995344\n",
      "7     0.998661\n",
      "8     0.999616\n",
      "9     0.999890\n",
      "10    0.999968\n",
      "11    0.999991\n",
      "dtype: float64\n"
     ]
    }
   ],
   "source": [
    "X = heart_df['ck']\n",
    "X = sm.add_constant(X)\n",
    "y_pred = model3.predict(X)\n",
    "\n",
    "print(y_pred)"
   ]
  },
  {
   "cell_type": "code",
   "execution_count": 477,
   "metadata": {},
   "outputs": [
    {
     "data": {
      "image/png": "[encoded data removed]",
      "text/plain": [
       "<Figure size 640x480 with 1 Axes>"
      ]
     },
     "metadata": {},
     "output_type": "display_data"
    }
   ],
   "source": [
    "plt.plot(\n",
    "    heart_df['ck'],\n",
    "    y_pred,\n",
    "    '.',\n",
    "    label='Predictions',\n",
    "    color= 'green',\n",
    ")\n",
    "\n",
    "plt.plot(\n",
    "    heart_df['ck'],\n",
    "    heart_df['p'],\n",
    "    '.',\n",
    "    label='NO Heart Attacks',\n",
    "    color= 'orange',\n",
    ")\n",
    "plt.legend()\n",
    "plt.show()"
   ]
  },
  {
   "cell_type": "code",
   "execution_count": 478,
   "metadata": {},
   "outputs": [
    {
     "data": {
      "image/png": "[encoded data removed]",
      "text/plain": [
       "<Figure size 640x480 with 1 Axes>"
      ]
     },
     "metadata": {},
     "output_type": "display_data"
    }
   ],
   "source": [
    "res = heart_df['p'] - y_pred\n",
    "\n",
    "plt.plot(\n",
    "    heart_df['ck'],\n",
    "    res,\n",
    "    '.',\n",
    "    label='Residuals',\n",
    "    color='purple'\n",
    ")\n",
    "plt.plot(\n",
    "    [0 for i in range(heart_df['ck'].min(), heart_df['ck'].max())],\n",
    "    linestyle='dotted'\n",
    ")\n",
    "\n",
    "plt.legend()\n",
    "plt.show()"
   ]
  },
  {
   "cell_type": "code",
   "execution_count": 479,
   "metadata": {},
   "outputs": [],
   "source": [
    "# https://numpy.org/doc/stable/reference/generated/numpy.polyfit.html\n",
    "\n",
    "coefficients = np.polyfit(\n",
    "    x= heart_df['ck'], \n",
    "    y= res,\n",
    "    deg= 3\n",
    ")\n",
    "poly_func = np.poly1d(coefficients)\n",
    "\n",
    "x_fit = np.linspace(heart_df['ck'].min(), heart_df['ck'].max(), 100)\n",
    "y_fit = poly_func(x_fit)"
   ]
  },
  {
   "cell_type": "code",
   "execution_count": 480,
   "metadata": {},
   "outputs": [
    {
     "data": {
      "image/png": "[encoded data removed]",
      "text/plain": [
       "<Figure size 640x480 with 1 Axes>"
      ]
     },
     "metadata": {},
     "output_type": "display_data"
    }
   ],
   "source": [
    "plt.plot(\n",
    "    x_fit,\n",
    "    y_fit,\n",
    "    label='polynomial func',\n",
    "    color='grey'\n",
    ")\n",
    "plt.plot(\n",
    "    [0 for i in range(heart_df['ck'].min(), heart_df['ck'].max())],\n",
    "    linestyle='dotted'\n",
    ")\n",
    "\n",
    "plt.plot(\n",
    "    heart_df['ck'],\n",
    "    res,\n",
    "    '.',\n",
    "    label='Residuals',\n",
    "    color='purple'\n",
    ")\n",
    "plt.plot(\n",
    "    [0 for i in range(heart_df['ck'].min(), heart_df['ck'].max())],\n",
    "    linestyle='dotted'\n",
    ")\n",
    "\n",
    "plt.legend()\n",
    "plt.show()"
   ]
  },
  {
   "cell_type": "markdown",
   "metadata": {},
   "source": [
    "tutorial guy says he wants to plot ck^2 & ck&3 as well"
   ]
  },
  {
   "cell_type": "code",
   "execution_count": 481,
   "metadata": {},
   "outputs": [
    {
     "name": "stdout",
     "output_type": "stream",
     "text": [
      "[[1.0000e+00 2.0000e+01 4.0000e+02 8.0000e+03]\n",
      " [1.0000e+00 6.0000e+01 3.6000e+03 2.1600e+05]\n",
      " [1.0000e+00 1.0000e+02 1.0000e+04 1.0000e+06]\n",
      " [1.0000e+00 1.4000e+02 1.9600e+04 2.7440e+06]\n",
      " [1.0000e+00 1.8000e+02 3.2400e+04 5.8320e+06]\n",
      " [1.0000e+00 2.2000e+02 4.8400e+04 1.0648e+07]\n",
      " [1.0000e+00 2.6000e+02 6.7600e+04 1.7576e+07]\n",
      " [1.0000e+00 3.0000e+02 9.0000e+04 2.7000e+07]\n",
      " [1.0000e+00 3.4000e+02 1.1560e+05 3.9304e+07]\n",
      " [1.0000e+00 3.8000e+02 1.4440e+05 5.4872e+07]\n",
      " [1.0000e+00 4.2000e+02 1.7640e+05 7.4088e+07]\n",
      " [1.0000e+00 4.6000e+02 2.1160e+05 9.7336e+07]]\n",
      "                 Generalized Linear Model Regression Results                  \n",
      "==============================================================================\n",
      "Dep. Variable:           ['ha', 'ok']   No. Observations:                   12\n",
      "Model:                            GLM   Df Residuals:                        8\n",
      "Model Family:                Binomial   Df Model:                            3\n",
      "Link Function:                  Logit   Scale:                          1.0000\n",
      "Method:                          IRLS   Log-Likelihood:                -12.829\n",
      "Date:                Fri, 04 Apr 2025   Deviance:                       4.2525\n",
      "Time:                        16:27:07   Pearson chi2:                     2.96\n",
      "No. Iterations:                     8   Pseudo R-squ. (CS):              1.000\n",
      "Covariance Type:            nonrobust                                         \n",
      "==============================================================================\n",
      "                 coef    std err          z      P>|z|      [0.025      0.975]\n",
      "------------------------------------------------------------------------------\n",
      "const         -5.7859      0.927     -6.242      0.000      -7.602      -3.969\n",
      "x1             0.1102      0.021      5.153      0.000       0.068       0.152\n",
      "x2            -0.0005      0.000     -3.367      0.001      -0.001      -0.000\n",
      "x3          6.448e-07   2.54e-07      2.535      0.011    1.46e-07    1.14e-06\n",
      "==============================================================================\n"
     ]
    }
   ],
   "source": [
    "X = np.stack(\n",
    "    (heart_df['ck'], np.pow(heart_df['ck'], 2), np.pow(heart_df['ck'], 3)) ,\n",
    "    axis= 1\n",
    ")\n",
    "X = sm.add_constant(X)\n",
    "print(X)\n",
    "\n",
    "y = heart_df[['ha', 'ok']]\n",
    "\n",
    "\n",
    "model4 = sm.GLM(\n",
    "    # 1D array of response (or 2D if binomial [success, failure])\n",
    "    endog= y,\n",
    "    \n",
    "    # NxK array of input data\n",
    "    exog= X,\n",
    "    \n",
    "    #\n",
    "    family= sm.families.Binomial(),\n",
    "    \n",
    "    # offset=None,\n",
    "    # exposure=None,\n",
    "    # freq_weights=None,\n",
    "    # var_weights=None,\n",
    "    # missing='none',\n",
    "    # **kwargs\n",
    ").fit()\n",
    "\n",
    "print(model4.summary())"
   ]
  },
  {
   "cell_type": "code",
   "execution_count": 482,
   "metadata": {},
   "outputs": [
    {
     "name": "stdout",
     "output_type": "stream",
     "text": [
      "4.252454150750626\n",
      "8\n"
     ]
    }
   ],
   "source": [
    "print(model4.deviance) # want it to be small and at least equal to degrees of freedom\n",
    "print(model4.df_resid)"
   ]
  },
  {
   "cell_type": "code",
   "execution_count": 483,
   "metadata": {},
   "outputs": [
    {
     "name": "stdout",
     "output_type": "stream",
     "text": [
      "[0.02270378 0.33029355 0.77424018 0.90913735 0.94007997 0.94424574\n",
      " 0.94159557 0.94546376 0.96425385 0.98730902 0.99812627 0.99990986]\n"
     ]
    }
   ],
   "source": [
    "X = np.stack(\n",
    "    (heart_df['ck'], np.pow(heart_df['ck'], 2), np.pow(heart_df['ck'], 3)) ,\n",
    "    axis= 1\n",
    ")\n",
    "X = sm.add_constant(X)\n",
    "y_pred = model4.predict(X)\n",
    "\n",
    "print(y_pred)"
   ]
  },
  {
   "cell_type": "code",
   "execution_count": 484,
   "metadata": {},
   "outputs": [
    {
     "data": {
      "image/png": "[encoded data removed]",
      "text/plain": [
       "<Figure size 640x480 with 1 Axes>"
      ]
     },
     "metadata": {},
     "output_type": "display_data"
    }
   ],
   "source": [
    "plt.plot(\n",
    "    heart_df['ck'],\n",
    "    y_pred,\n",
    "    '.',\n",
    "    label='Predictions',\n",
    "    color= 'green',\n",
    ")\n",
    "\n",
    "plt.plot(\n",
    "    heart_df['ck'],\n",
    "    heart_df['p'],\n",
    "    '.',\n",
    "    label='NO Heart Attacks',\n",
    "    color= 'orange',\n",
    ")\n",
    "plt.legend()\n",
    "plt.show()"
   ]
  },
  {
   "cell_type": "code",
   "execution_count": 485,
   "metadata": {},
   "outputs": [
    {
     "data": {
      "image/png": "[encoded data removed]",
      "text/plain": [
       "<Figure size 640x480 with 1 Axes>"
      ]
     },
     "metadata": {},
     "output_type": "display_data"
    }
   ],
   "source": [
    "res = heart_df['p'] - y_pred\n",
    "\n",
    "plt.plot(\n",
    "    heart_df['ck'],\n",
    "    res,\n",
    "    '.',\n",
    "    label='Residuals',\n",
    "    color='purple'\n",
    ")\n",
    "plt.plot(\n",
    "    [0 for i in range(heart_df['ck'].min(), heart_df['ck'].max())],\n",
    "    linestyle='dotted'\n",
    ")\n",
    "\n",
    "coefficients = np.polyfit(\n",
    "    x= heart_df['ck'], \n",
    "    y= res,\n",
    "    deg= 3\n",
    ")\n",
    "poly_func = np.poly1d(coefficients)\n",
    "\n",
    "x_fit = np.linspace(heart_df['ck'].min(), heart_df['ck'].max(), 100)\n",
    "y_fit = poly_func(x_fit)\n",
    "\n",
    "plt.plot(\n",
    "    x_fit,\n",
    "    y_fit,\n",
    "    label='polynomial func',\n",
    "    color='grey'\n",
    ")\n",
    "\n",
    "plt.legend()\n",
    "plt.show()"
   ]
  },
  {
   "cell_type": "markdown",
   "metadata": {},
   "source": [
    "## Section 2: EXERCISE\n",
    "\n",
    "- The  first  column  contains  the  counts  of  simple  aberrant  foci  (ACFs)\n",
    "- [A] Create scatterplot of count ~ endtime.\n",
    "- [B] Run 2 GLMs\n",
    "    - [1] specifies count (response) as predicted by endtime (explanatory) & uses a poisson family for distribution.  Plot.\n",
    "    - [2] 2nd model add endtime^2. Compare 2 models\n"
   ]
  },
  {
   "cell_type": "code",
   "execution_count": 486,
   "metadata": {},
   "outputs": [
    {
     "data": {
      "text/html": [
       "<table border=\"1\" class=\"dataframe\">\n",
       "  <thead>\n",
       "    <tr style=\"text-align: right;\">\n",
       "      <th></th>\n",
       "      <th>count</th>\n",
       "      <th>endtime</th>\n",
       "    </tr>\n",
       "  </thead>\n",
       "  <tbody>\n",
       "    <tr>\n",
       "      <th>0</th>\n",
       "      <td>1</td>\n",
       "      <td>6</td>\n",
       "    </tr>\n",
       "    <tr>\n",
       "      <th>1</th>\n",
       "      <td>3</td>\n",
       "      <td>6</td>\n",
       "    </tr>\n",
       "    <tr>\n",
       "      <th>2</th>\n",
       "      <td>5</td>\n",
       "      <td>6</td>\n",
       "    </tr>\n",
       "    <tr>\n",
       "      <th>3</th>\n",
       "      <td>1</td>\n",
       "      <td>6</td>\n",
       "    </tr>\n",
       "    <tr>\n",
       "      <th>4</th>\n",
       "      <td>2</td>\n",
       "      <td>6</td>\n",
       "    </tr>\n",
       "    <tr>\n",
       "      <th>5</th>\n",
       "      <td>1</td>\n",
       "      <td>6</td>\n",
       "    </tr>\n",
       "    <tr>\n",
       "      <th>6</th>\n",
       "      <td>1</td>\n",
       "      <td>6</td>\n",
       "    </tr>\n",
       "    <tr>\n",
       "      <th>7</th>\n",
       "      <td>3</td>\n",
       "      <td>12</td>\n",
       "    </tr>\n",
       "    <tr>\n",
       "      <th>8</th>\n",
       "      <td>1</td>\n",
       "      <td>12</td>\n",
       "    </tr>\n",
       "    <tr>\n",
       "      <th>9</th>\n",
       "      <td>2</td>\n",
       "      <td>12</td>\n",
       "    </tr>\n",
       "    <tr>\n",
       "      <th>10</th>\n",
       "      <td>6</td>\n",
       "      <td>12</td>\n",
       "    </tr>\n",
       "    <tr>\n",
       "      <th>11</th>\n",
       "      <td>0</td>\n",
       "      <td>12</td>\n",
       "    </tr>\n",
       "    <tr>\n",
       "      <th>12</th>\n",
       "      <td>0</td>\n",
       "      <td>12</td>\n",
       "    </tr>\n",
       "    <tr>\n",
       "      <th>13</th>\n",
       "      <td>4</td>\n",
       "      <td>12</td>\n",
       "    </tr>\n",
       "    <tr>\n",
       "      <th>14</th>\n",
       "      <td>1</td>\n",
       "      <td>12</td>\n",
       "    </tr>\n",
       "    <tr>\n",
       "      <th>15</th>\n",
       "      <td>10</td>\n",
       "      <td>18</td>\n",
       "    </tr>\n",
       "    <tr>\n",
       "      <th>16</th>\n",
       "      <td>6</td>\n",
       "      <td>18</td>\n",
       "    </tr>\n",
       "    <tr>\n",
       "      <th>17</th>\n",
       "      <td>6</td>\n",
       "      <td>18</td>\n",
       "    </tr>\n",
       "    <tr>\n",
       "      <th>18</th>\n",
       "      <td>7</td>\n",
       "      <td>18</td>\n",
       "    </tr>\n",
       "    <tr>\n",
       "      <th>19</th>\n",
       "      <td>5</td>\n",
       "      <td>18</td>\n",
       "    </tr>\n",
       "    <tr>\n",
       "      <th>20</th>\n",
       "      <td>7</td>\n",
       "      <td>18</td>\n",
       "    </tr>\n",
       "    <tr>\n",
       "      <th>21</th>\n",
       "      <td>6</td>\n",
       "      <td>18</td>\n",
       "    </tr>\n",
       "  </tbody>\n",
       "</table>"
      ],
      "text/plain": [
       "<IPython.core.display.HTML object>"
      ]
     },
     "metadata": {},
     "output_type": "display_data"
    }
   ],
   "source": [
    "rat_df = pd.read_csv(\n",
    "    filepath_or_buffer= os.path.join(path, 'ACF1.csv')\n",
    ")\n",
    "display(HTML(rat_df.to_html()))"
   ]
  },
  {
   "cell_type": "code",
   "execution_count": 487,
   "metadata": {},
   "outputs": [
    {
     "data": {
      "image/png": "[encoded data removed]",
      "text/plain": [
       "<Figure size 640x480 with 1 Axes>"
      ]
     },
     "metadata": {},
     "output_type": "display_data"
    }
   ],
   "source": [
    "plt.plot(\n",
    "    rat_df['endtime'],\n",
    "    rat_df['count'],\n",
    "    'o'\n",
    ")\n",
    "plt.title(\n",
    "    label= 'Count V.S. Endtime'\n",
    ")\n",
    "plt.xlabel(\n",
    "    xlabel= 'Count'\n",
    ")\n",
    "plt.ylabel(\n",
    "    ylabel= 'Endtime'\n",
    ")\n",
    "plt.show()"
   ]
  },
  {
   "cell_type": "code",
   "execution_count": 488,
   "metadata": {},
   "outputs": [
    {
     "name": "stdout",
     "output_type": "stream",
     "text": [
      "                 Generalized Linear Model Regression Results                  \n",
      "==============================================================================\n",
      "Dep. Variable:                      y   No. Observations:                   22\n",
      "Model:                            GLM   Df Residuals:                       20\n",
      "Model Family:                 Poisson   Df Model:                            1\n",
      "Link Function:                    Log   Scale:                          1.0000\n",
      "Method:                          IRLS   Log-Likelihood:                -59.084\n",
      "Date:                Fri, 04 Apr 2025   Deviance:                       24.711\n",
      "Time:                        16:27:08   Pearson chi2:                     23.3\n",
      "No. Iterations:                     4   Pseudo R-squ. (CS):             0.5830\n",
      "Covariance Type:            nonrobust                                         \n",
      "==============================================================================\n",
      "                 coef    std err          z      P>|z|      [0.025      0.975]\n",
      "------------------------------------------------------------------------------\n",
      "const          2.1104      0.111     18.999      0.000       1.893       2.328\n",
      "x1             0.0957      0.022      4.444      0.000       0.053       0.138\n",
      "==============================================================================\n"
     ]
    }
   ],
   "source": [
    "# GLM 1\n",
    "\n",
    "X = rat_df['count']\n",
    "X = sm.add_constant(X)\n",
    "X = X.to_numpy()\n",
    "\n",
    "y = rat_df['endtime']\n",
    "y = y.to_numpy()\n",
    "\n",
    "ex_m1 = sm.GLM(\n",
    "    endog= y,\n",
    "    exog= X,\n",
    "    family= sm.families.Poisson()\n",
    "    # offset: Any | None = None,\n",
    "    # exposure: Any | None = None,\n",
    "    # freq_weights: Any | None = None,\n",
    "    # var_weights: Any | None = None,\n",
    "    # missing: str = 'none',\n",
    "    # **kwargs: Any\n",
    ").fit()\n",
    "\n",
    "print(ex_m1.summary())"
   ]
  },
  {
   "cell_type": "code",
   "execution_count": 489,
   "metadata": {},
   "outputs": [
    {
     "data": {
      "image/png": "[encoded data removed]",
      "text/plain": [
       "<Figure size 640x480 with 1 Axes>"
      ]
     },
     "metadata": {},
     "output_type": "display_data"
    }
   ],
   "source": [
    "y_pred = ex_m1.predict(X)\n",
    "\n",
    "plt.plot(\n",
    "    rat_df['count'],\n",
    "    y_pred,\n",
    "    'x',\n",
    "    color= 'red'\n",
    ")\n",
    "plt.plot(\n",
    "    rat_df['count'],\n",
    "    rat_df['endtime'],\n",
    "    'o'\n",
    ")\n",
    "plt.title(\n",
    "    label= 'Count V.S. Endtime'\n",
    ")\n",
    "plt.xlabel(\n",
    "    xlabel= 'Count'\n",
    ")\n",
    "plt.ylabel(\n",
    "    ylabel= 'Endtime'\n",
    ")\n",
    "plt.show()"
   ]
  },
  {
   "cell_type": "code",
   "execution_count": 490,
   "metadata": {},
   "outputs": [
    {
     "name": "stdout",
     "output_type": "stream",
     "text": [
      "                 Generalized Linear Model Regression Results                  \n",
      "==============================================================================\n",
      "Dep. Variable:                      y   No. Observations:                   22\n",
      "Model:                            GLM   Df Residuals:                       20\n",
      "Model Family:                 Poisson   Df Model:                            1\n",
      "Link Function:                    Log   Scale:                          1.0000\n",
      "Method:                          IRLS   Log-Likelihood:                -34.109\n",
      "Date:                Fri, 04 Apr 2025   Deviance:                       8.3777\n",
      "Time:                        16:27:08   Pearson chi2:                     6.08\n",
      "No. Iterations:                     4   Pseudo R-squ. (CS):             0.8566\n",
      "Covariance Type:            nonrobust                                         \n",
      "==============================================================================\n",
      "                 coef    std err          z      P>|z|      [0.025      0.975]\n",
      "------------------------------------------------------------------------------\n",
      "const          0.0897      0.249      0.360      0.719      -0.399       0.579\n",
      "x1             0.2570      0.039      6.523      0.000       0.180       0.334\n",
      "==============================================================================\n"
     ]
    }
   ],
   "source": [
    "# GLM 1\n",
    "\n",
    "X2 = np.stack(\n",
    "    (rat_df['count'], np.pow(rat_df['count'], 2)),\n",
    "    axis= 1\n",
    ")\n",
    "X2 = sm.add_constant(X)\n",
    "\n",
    "y = rat_df['count']\n",
    "y = y.to_numpy()\n",
    "\n",
    "ex_m2 = sm.GLM(\n",
    "    endog= y,\n",
    "    exog= X2,\n",
    "    family= sm.families.Poisson()\n",
    "    # offset: Any | None = None,\n",
    "    # exposure: Any | None = None,\n",
    "    # freq_weights: Any | None = None,\n",
    "    # var_weights: Any | None = None,\n",
    "    # missing: str = 'none',\n",
    "    # **kwargs: Any\n",
    ").fit()\n",
    "\n",
    "print(ex_m2.summary())"
   ]
  },
  {
   "cell_type": "code",
   "execution_count": 491,
   "metadata": {},
   "outputs": [
    {
     "data": {
      "image/png": "[encoded data removed]",
      "text/plain": [
       "<Figure size 640x480 with 1 Axes>"
      ]
     },
     "metadata": {},
     "output_type": "display_data"
    }
   ],
   "source": [
    "y_pred_2 = ex_m2.predict(X2)\n",
    "plt.plot(\n",
    "    rat_df['count'],\n",
    "    y_pred_2,\n",
    "    'x',\n",
    "    color= 'red'\n",
    ")\n",
    "y_pred_1 = ex_m1.predict(X)\n",
    "plt.plot(\n",
    "    rat_df['count'],\n",
    "    y_pred_1,\n",
    "    '.',\n",
    "    color= 'green'\n",
    ")\n",
    "\n",
    "\n",
    "plt.plot(\n",
    "    rat_df['count'],\n",
    "    rat_df['endtime'],\n",
    "    'o'\n",
    ")\n",
    "plt.title(\n",
    "    label= 'Count V.S. Endtime'\n",
    ")\n",
    "plt.xlabel(\n",
    "    xlabel= 'Count'\n",
    ")\n",
    "plt.ylabel(\n",
    "    ylabel= 'Endtime'\n",
    ")\n",
    "plt.show()"
   ]
  },
  {
   "cell_type": "code",
   "execution_count": 492,
   "metadata": {},
   "outputs": [
    {
     "name": "stdout",
     "output_type": "stream",
     "text": [
      "24.71135725165682\n",
      "20\n",
      "8.377659419347953\n",
      "20\n"
     ]
    }
   ],
   "source": [
    "print(ex_m1.deviance)\n",
    "print(ex_m1.df_resid)\n",
    "print(ex_m2.deviance)\n",
    "print(ex_m2.df_resid)"
   ]
  },
  {
   "cell_type": "markdown",
   "metadata": {},
   "source": [
    "## Section 3: GLM Part 2"
   ]
  },
  {
   "cell_type": "markdown",
   "metadata": {},
   "source": [
    "- Reviewing \"Day 1 Exercises with Solutions\"... So I'm gonna do it before the review"
   ]
  },
  {
   "cell_type": "markdown",
   "metadata": {},
   "source": [
    "### Day 1: Q1\n",
    "The  R  data  frame  warpbreaks gives  the  number  of  breaks  per fixed  length  of  wool during weaving, for two different wool  types, and 3 different weaving \n",
    "tensions. Using a linear model, establish whether there is evidence that the effect  of  tension  on  break  rate  is  dependent on  the  type  of  wool.  If  there is,  use interaction.plot() function to examine the nature of the dependence."
   ]
  },
  {
   "cell_type": "code",
   "execution_count": 493,
   "metadata": {},
   "outputs": [
    {
     "data": {
      "text/html": [
       "<table border=\"1\" class=\"dataframe\">\n",
       "  <thead>\n",
       "    <tr style=\"text-align: right;\">\n",
       "      <th></th>\n",
       "      <th>breaks</th>\n",
       "      <th>wool</th>\n",
       "      <th>tension</th>\n",
       "    </tr>\n",
       "  </thead>\n",
       "  <tbody>\n",
       "    <tr>\n",
       "      <th>0</th>\n",
       "      <td>26</td>\n",
       "      <td>A</td>\n",
       "      <td>L</td>\n",
       "    </tr>\n",
       "    <tr>\n",
       "      <th>1</th>\n",
       "      <td>30</td>\n",
       "      <td>A</td>\n",
       "      <td>L</td>\n",
       "    </tr>\n",
       "    <tr>\n",
       "      <th>2</th>\n",
       "      <td>54</td>\n",
       "      <td>A</td>\n",
       "      <td>L</td>\n",
       "    </tr>\n",
       "    <tr>\n",
       "      <th>3</th>\n",
       "      <td>25</td>\n",
       "      <td>A</td>\n",
       "      <td>L</td>\n",
       "    </tr>\n",
       "    <tr>\n",
       "      <th>4</th>\n",
       "      <td>70</td>\n",
       "      <td>A</td>\n",
       "      <td>L</td>\n",
       "    </tr>\n",
       "    <tr>\n",
       "      <th>5</th>\n",
       "      <td>52</td>\n",
       "      <td>A</td>\n",
       "      <td>L</td>\n",
       "    </tr>\n",
       "    <tr>\n",
       "      <th>6</th>\n",
       "      <td>51</td>\n",
       "      <td>A</td>\n",
       "      <td>L</td>\n",
       "    </tr>\n",
       "    <tr>\n",
       "      <th>7</th>\n",
       "      <td>26</td>\n",
       "      <td>A</td>\n",
       "      <td>L</td>\n",
       "    </tr>\n",
       "    <tr>\n",
       "      <th>8</th>\n",
       "      <td>67</td>\n",
       "      <td>A</td>\n",
       "      <td>L</td>\n",
       "    </tr>\n",
       "    <tr>\n",
       "      <th>9</th>\n",
       "      <td>18</td>\n",
       "      <td>A</td>\n",
       "      <td>M</td>\n",
       "    </tr>\n",
       "  </tbody>\n",
       "</table>"
      ],
      "text/plain": [
       "<IPython.core.display.HTML object>"
      ]
     },
     "metadata": {},
     "output_type": "display_data"
    }
   ],
   "source": [
    "warp_df = pd.read_csv(\n",
    "    filepath_or_buffer= os.path.join(path, 'warpbreaks.csv')\n",
    ")\n",
    "display(HTML(warp_df[:10].to_html()))"
   ]
  },
  {
   "cell_type": "code",
   "execution_count": 494,
   "metadata": {},
   "outputs": [
    {
     "name": "stdout",
     "output_type": "stream",
     "text": [
      "count    54.000000\n",
      "mean     28.148148\n",
      "std      13.198638\n",
      "min      10.000000\n",
      "25%      18.250000\n",
      "50%      26.000000\n",
      "75%      34.000000\n",
      "max      70.000000\n",
      "Name: breaks, dtype: float64 \n",
      "\n",
      "       wool tension\n",
      "count    54      54\n",
      "unique    2       3\n",
      "top       A       L\n",
      "freq     27      18\n"
     ]
    }
   ],
   "source": [
    "print(warp_df['breaks'].describe(), '\\n')\n",
    "print(warp_df[['wool','tension']].describe())"
   ]
  },
  {
   "cell_type": "code",
   "execution_count": 495,
   "metadata": {},
   "outputs": [
    {
     "data": {
      "image/png": "[encoded data removed]",
      "text/plain": [
       "<Figure size 640x480 with 1 Axes>"
      ]
     },
     "metadata": {},
     "output_type": "display_data"
    }
   ],
   "source": [
    "\"\"\" \n",
    "... evidence that the effect \n",
    "of  tension  on  break  rate \n",
    "is  dependent on  the  type  of  wool.\n",
    "\"\"\"\n",
    "\n",
    "fig = sm.graphics.interaction_plot(\n",
    "    x= warp_df['tension'],\n",
    "    trace= warp_df['wool'],\n",
    "    response= warp_df['breaks']\n",
    ")\n",
    "plt.show()"
   ]
  },
  {
   "cell_type": "code",
   "execution_count": 496,
   "metadata": {},
   "outputs": [
    {
     "name": "stdout",
     "output_type": "stream",
     "text": [
      "   const  breaks wool tension\n",
      "0    1.0      26    A       L\n",
      "1    1.0      30    A       L\n",
      "2    1.0      54    A       L\n",
      "3    1.0      25    A       L\n",
      "4    1.0      70    A       L\n",
      "5    1.0      52    A       L\n",
      "6    1.0      51    A       L\n",
      "7    1.0      26    A       L\n",
      "8    1.0      67    A       L\n",
      "9    1.0      18    A       M\n"
     ]
    }
   ],
   "source": [
    "warp_df = sm.add_constant(warp_df)\n",
    "print(warp_df[:10])"
   ]
  },
  {
   "cell_type": "code",
   "execution_count": 497,
   "metadata": {},
   "outputs": [
    {
     "name": "stdout",
     "output_type": "stream",
     "text": [
      "                 Generalized Linear Model Regression Results                  \n",
      "==============================================================================\n",
      "Dep. Variable:                 breaks   No. Observations:                   54\n",
      "Model:                            GLM   Df Residuals:                       48\n",
      "Model Family:                 Poisson   Df Model:                            5\n",
      "Link Function:                    Log   Scale:                          1.0000\n",
      "Method:                          IRLS   Log-Likelihood:                -228.48\n",
      "Date:                Fri, 04 Apr 2025   Deviance:                       182.31\n",
      "Time:                        16:27:08   Pearson chi2:                     181.\n",
      "No. Iterations:                     4   Pseudo R-squ. (CS):             0.8813\n",
      "Covariance Type:            nonrobust                                         \n",
      "================================================================================================\n",
      "                                   coef    std err          z      P>|z|      [0.025      0.975]\n",
      "------------------------------------------------------------------------------------------------\n",
      "Intercept                        3.2009      0.067     47.585      0.000       3.069       3.333\n",
      "C(wool)[T.B]                    -0.2683      0.102     -2.625      0.009      -0.469      -0.068\n",
      "C(tension)[T.L]                  0.5958      0.084      7.112      0.000       0.432       0.760\n",
      "C(tension)[T.M]                 -0.0229      0.096     -0.239      0.811      -0.210       0.165\n",
      "C(wool)[T.B]:C(tension)[T.L]    -0.1884      0.130     -1.450      0.147      -0.443       0.066\n",
      "C(wool)[T.B]:C(tension)[T.M]     0.4498      0.138      3.269      0.001       0.180       0.719\n",
      "================================================================================================\n"
     ]
    }
   ],
   "source": [
    "# https://www.statsmodels.org/dev/generated/statsmodels.formula.api.glm.html\n",
    "\n",
    "\"\"\" \n",
    "... evidence that the effect \n",
    "of  tension  on  break  rate \n",
    "is  dependent on  the  type  of  wool.\n",
    "\"\"\"\n",
    "\n",
    "m = sm.formula.glm(\n",
    "    formula= 'breaks ~ C(wool) + C(tension) + C(wool)*C(tension)', \n",
    "    data= warp_df,\n",
    "    # subset,\n",
    "    # drop_cols,\n",
    "    family= sm.families.Poisson() # try to match Degrees of freedom with deviance\n",
    ").fit()\n",
    "\n",
    "print(m.summary())"
   ]
  },
  {
   "cell_type": "markdown",
   "metadata": {},
   "source": [
    "Wool.B, Tension.L, (Wool.B)(Tension.M) p-vals < 0.05\n",
    " - Meaning that HAVING AN impact on the model is very likely\n",
    "\n",
    "I would say that tension dose have an effect on breaks,\n",
    "as well as wool*tension having an effect on breaks as well.\n",
    "\n",
    "I suppose that *\"evidence that the effect of tension on break is dependent on type of well\"* is true for Wool.B & Tension.M. As Tension.M has LITTLE effect on breaks due to its high p-value but when multiplied by Wool.B that effect is VALID to its lower p-value"
   ]
  },
  {
   "cell_type": "markdown",
   "metadata": {},
   "source": [
    "WHAT GUY SAYS:\n",
    "- What I said + he used Gaussian instead of Poisson.\n"
   ]
  },
  {
   "cell_type": "markdown",
   "metadata": {},
   "source": [
    "### Day 1: Q3\n",
    "\n",
    "The  following  table  shows  numbers  of  occasions  when  inhibition  (i.e.,  no  flow  of  current across a membrane) occurred within 120 s, for different concentrations of the  protein peptide-C. The outcome yes implies that inhibition has occurred. Use logistic  regression to model the probability of inhibition as a function of protein concentration. Report  and plot your results fully. Interpret your results."
   ]
  },
  {
   "cell_type": "code",
   "execution_count": 498,
   "metadata": {},
   "outputs": [
    {
     "name": "stdout",
     "output_type": "stream",
     "text": [
      "     conc  no  yes\n",
      "0     0.1   7    0\n",
      "1     0.5   1    0\n",
      "2     1.0  10    3\n",
      "3    10.0   9    4\n",
      "4    20.0   2    0\n",
      "5    30.0   9    6\n",
      "6    50.0  13    7\n",
      "7    70.0   1    0\n",
      "8    80.0   1    0\n",
      "9   100.0   4    1\n",
      "10  150.0   3    7\n"
     ]
    }
   ],
   "source": [
    "'''\n",
    "- Use Logistic regression\n",
    "'''\n",
    "\n",
    "\n",
    "inhibit_df = pd.DataFrame(\n",
    "    data = {\n",
    "        'conc': [.1, .5, 1, 10, 20, 30, 50, 70, 80, 100, 150], # concentration after 120 sec\n",
    "        'no': [7, 1, 10, 9, 2, 9, 13, 1, 1, 4, 3],\n",
    "        'yes': [0, 0, 3, 4, 0, 6, 7, 0, 0, 1, 7] # At 120 sec, did inhibition occur?\n",
    "    }\n",
    ")\n",
    "print(inhibit_df)"
   ]
  },
  {
   "cell_type": "code",
   "execution_count": 499,
   "metadata": {},
   "outputs": [
    {
     "data": {
      "image/png": "[encoded data removed]",
      "text/plain": [
       "<Figure size 640x480 with 1 Axes>"
      ]
     },
     "metadata": {},
     "output_type": "display_data"
    }
   ],
   "source": [
    "plt.plot(\n",
    "    inhibit_df['conc'],\n",
    "    inhibit_df['yes'],\n",
    "    'o',\n",
    "    color= 'green',\n",
    "    label= 'Yes'\n",
    ")\n",
    "plt.plot(\n",
    "    inhibit_df['conc'],\n",
    "    inhibit_df['no'],\n",
    "    'x',\n",
    "    color= 'red',\n",
    "    label= 'No'\n",
    ")\n",
    "plt.title(label= 'Did Inhibition Occur at t = 120 sec')\n",
    "plt.xlabel(xlabel= 'concentration')\n",
    "plt.ylabel(ylabel= 'number of yes or no')\n",
    "\n",
    "plt.legend()\n",
    "plt.show()"
   ]
  },
  {
   "cell_type": "code",
   "execution_count": 500,
   "metadata": {},
   "outputs": [
    {
     "name": "stdout",
     "output_type": "stream",
     "text": [
      "     conc  no  yes     p_yes\n",
      "0     0.1   7    0  0.000000\n",
      "1     0.5   1    0  0.000000\n",
      "2     1.0  10    3  0.230769\n",
      "3    10.0   9    4  0.307692\n",
      "4    20.0   2    0  0.000000\n",
      "5    30.0   9    6  0.400000\n",
      "6    50.0  13    7  0.350000\n",
      "7    70.0   1    0  0.000000\n",
      "8    80.0   1    0  0.000000\n",
      "9   100.0   4    1  0.200000\n",
      "10  150.0   3    7  0.700000\n"
     ]
    }
   ],
   "source": [
    "inhibit_df['p_yes'] = inhibit_df['yes']/(inhibit_df['yes']+inhibit_df['no'])\n",
    "\n",
    "print(inhibit_df)"
   ]
  },
  {
   "cell_type": "code",
   "execution_count": 501,
   "metadata": {},
   "outputs": [
    {
     "data": {
      "image/png": "[encoded data removed]",
      "text/plain": [
       "<Figure size 640x480 with 1 Axes>"
      ]
     },
     "metadata": {},
     "output_type": "display_data"
    }
   ],
   "source": [
    "plt.plot(\n",
    "    inhibit_df['conc'],\n",
    "    inhibit_df['p_yes'],\n",
    "    'o',\n",
    "    color= 'green',\n",
    "    label= 'Yes'\n",
    ")\n",
    "\n",
    "plt.show()"
   ]
  },
  {
   "cell_type": "code",
   "execution_count": 502,
   "metadata": {},
   "outputs": [
    {
     "name": "stdout",
     "output_type": "stream",
     "text": [
      "[[1.000e+00 1.000e-01 1.000e-03]\n",
      " [1.000e+00 5.000e-01 1.250e-01]\n",
      " [1.000e+00 1.000e+00 1.000e+00]\n",
      " [1.000e+00 1.000e+01 1.000e+03]\n",
      " [1.000e+00 2.000e+01 8.000e+03]\n",
      " [1.000e+00 3.000e+01 2.700e+04]\n",
      " [1.000e+00 5.000e+01 1.250e+05]\n",
      " [1.000e+00 7.000e+01 3.430e+05]\n",
      " [1.000e+00 8.000e+01 5.120e+05]\n",
      " [1.000e+00 1.000e+02 1.000e+06]\n",
      " [1.000e+00 1.500e+02 3.375e+06]]\n",
      "(11, 3)\n"
     ]
    }
   ],
   "source": [
    "# X = inhibit_df['conc']\n",
    "\n",
    "X = np.stack(\n",
    "    (inhibit_df['conc'], np.pow(inhibit_df['conc'],3)),\n",
    "    axis= 1\n",
    ")\n",
    "X = sm.add_constant(X)\n",
    "print(X)\n",
    "print(X.shape)\n"
   ]
  },
  {
   "cell_type": "code",
   "execution_count": 503,
   "metadata": {},
   "outputs": [
    {
     "name": "stdout",
     "output_type": "stream",
     "text": [
      "    yes  no\n",
      "0     0   7\n",
      "1     0   1\n",
      "2     3  10\n",
      "3     4   9\n",
      "4     0   2\n",
      "5     6   9\n",
      "6     7  13\n",
      "7     0   1\n",
      "8     0   1\n",
      "9     1   4\n",
      "10    7   3\n"
     ]
    }
   ],
   "source": [
    "y = inhibit_df[['yes', 'no']]\n",
    "print(y)"
   ]
  },
  {
   "cell_type": "code",
   "execution_count": 504,
   "metadata": {},
   "outputs": [
    {
     "name": "stdout",
     "output_type": "stream",
     "text": [
      "                 Generalized Linear Model Regression Results                  \n",
      "==============================================================================\n",
      "Dep. Variable:          ['yes', 'no']   No. Observations:                   11\n",
      "Model:                            GLM   Df Residuals:                        8\n",
      "Model Family:                Binomial   Df Model:                            2\n",
      "Link Function:                  Logit   Scale:                          1.0000\n",
      "Method:                          IRLS   Log-Likelihood:                -13.344\n",
      "Date:                Fri, 04 Apr 2025   Deviance:                       10.087\n",
      "Time:                        16:27:08   Pearson chi2:                     7.17\n",
      "No. Iterations:                     4   Pseudo R-squ. (CS):             0.4510\n",
      "Covariance Type:            nonrobust                                         \n",
      "==============================================================================\n",
      "                 coef    std err          z      P>|z|      [0.025      0.975]\n",
      "------------------------------------------------------------------------------\n",
      "const         -1.1940      0.409     -2.917      0.004      -1.996      -0.392\n",
      "x1             0.0060      0.012      0.491      0.623      -0.018       0.030\n",
      "x2          2.876e-07   5.26e-07      0.547      0.584   -7.43e-07    1.32e-06\n",
      "==============================================================================\n"
     ]
    }
   ],
   "source": [
    "d1_q3 = sm.GLM(\n",
    "    endog= y,\n",
    "    exog= X,\n",
    "    family= sm.families.Binomial()\n",
    ").fit()\n",
    "\n",
    "print(d1_q3.summary())"
   ]
  },
  {
   "cell_type": "code",
   "execution_count": 505,
   "metadata": {},
   "outputs": [
    {
     "data": {
      "image/png": "[encoded data removed]",
      "text/plain": [
       "<Figure size 640x480 with 1 Axes>"
      ]
     },
     "metadata": {},
     "output_type": "display_data"
    }
   ],
   "source": [
    "x_m_graph = np.linspace(\n",
    "    start= inhibit_df['conc'].min(),\n",
    "    stop= inhibit_df['conc'].max(),\n",
    "    num= 1_000\n",
    ")\n",
    "\n",
    "x_m_graph_2 = np.stack(\n",
    "    (x_m_graph, np.pow(x_m_graph, 3)),\n",
    "    axis= 1\n",
    ")\n",
    "\n",
    "x_m_graph_2 = sm.add_constant(x_m_graph_2)\n",
    "\n",
    "y_m_graph = d1_q3.predict(x_m_graph_2)\n",
    "\n",
    "\n",
    "plt.plot(\n",
    "    x_m_graph,\n",
    "    y_m_graph,\n",
    "    '.',\n",
    "    color= 'orange',\n",
    "    label= 'Model Predict'\n",
    ")\n",
    "\n",
    "plt.plot(\n",
    "    inhibit_df['conc'],\n",
    "    inhibit_df['p_yes'],\n",
    "    'o',\n",
    "    color= 'green',\n",
    "    label= 'Yes'\n",
    ")\n",
    "\n",
    "\n",
    "plt.legend()\n",
    "plt.show()"
   ]
  },
  {
   "cell_type": "code",
   "execution_count": null,
   "metadata": {},
   "outputs": [],
   "source": []
  }
 ],
 "metadata": {
  "kernelspec": {
   "display_name": "udemy_glm",
   "language": "python",
   "name": "python3"
  },
  "language_info": {
   "codemirror_mode": {
    "name": "ipython",
    "version": 3
   },
   "file_extension": ".py",
   "mimetype": "text/x-python",
   "name": "python",
   "nbconvert_exporter": "python",
   "pygments_lexer": "ipython3",
   "version": "3.12.9"
  }
 },
 "nbformat": 4,
 "nbformat_minor": 2
}
